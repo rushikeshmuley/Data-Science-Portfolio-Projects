{
  "nbformat": 4,
  "nbformat_minor": 0,
  "metadata": {
    "colab": {
      "provenance": []
    },
    "kernelspec": {
      "name": "python3",
      "display_name": "Python 3"
    },
    "language_info": {
      "name": "python"
    }
  },
  "cells": [
    {
      "cell_type": "markdown",
      "source": [
        "# Project Introduction: Sentiment Analysis on Amazon Product Reviews\n",
        "\n",
        "In this project, we analyze Amazon product reviews to determine whether they convey positive or negative sentiments. Sentiment analysis is a crucial tool for businesses seeking to understand customer feedback and make data-driven decisions. We will follow a structured approach that includes data preprocessing, sentiment analysis using NLTK's VADER tool, feature extraction using TF-IDF, and machine learning with a Random Forest Classifier. Our goal is to build an effective model for sentiment classification, enabling us to gain valuable insights from customer reviews."
      ],
      "metadata": {
        "id": "BBBXUuUbsdgw"
      }
    },
    {
      "cell_type": "markdown",
      "source": [
        "![Sentiment-Analysis.webp](data:image/webp;base64,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)"
      ],
      "metadata": {
        "id": "Zc_B0CGquqNW"
      }
    },
    {
      "cell_type": "code",
      "execution_count": null,
      "metadata": {
        "colab": {
          "base_uri": "https://localhost:8080/"
        },
        "id": "DEi9UX7LMdTF",
        "outputId": "c69356da-07fb-4d2e-af40-10d6a0cf7542"
      },
      "outputs": [
        {
          "output_type": "stream",
          "name": "stderr",
          "text": [
            "[nltk_data] Downloading package punkt to /root/nltk_data...\n",
            "[nltk_data]   Unzipping tokenizers/punkt.zip.\n",
            "[nltk_data] Downloading package vader_lexicon to /root/nltk_data...\n"
          ]
        },
        {
          "output_type": "execute_result",
          "data": {
            "text/plain": [
              "True"
            ]
          },
          "metadata": {},
          "execution_count": 1
        }
      ],
      "source": [
        "import os\n",
        "import numpy as np\n",
        "import pandas as pd\n",
        "\n",
        "import nltk\n",
        "from nltk import corpus,tokenize\n",
        "from nltk.corpus import stopwords\n",
        "import re\n",
        "from nltk.stem import PorterStemmer,WordNetLemmatizer,porter\n",
        "\n",
        "nltk.download(\"punkt\")\n",
        "nltk.download(\"vader_lexicon\")"
      ]
    },
    {
      "cell_type": "code",
      "source": [
        "from nltk.sentiment.vader import SentimentIntensityAnalyzer\n",
        "sia = SentimentIntensityAnalyzer()"
      ],
      "metadata": {
        "id": "Mbo4i05WQsYv"
      },
      "execution_count": null,
      "outputs": []
    },
    {
      "cell_type": "code",
      "source": [
        "abc=\"This is a good movie ever seen\""
      ],
      "metadata": {
        "id": "jh-tcj1aRmHD"
      },
      "execution_count": null,
      "outputs": []
    },
    {
      "cell_type": "code",
      "source": [
        "sia.polarity_scores(abc)"
      ],
      "metadata": {
        "colab": {
          "base_uri": "https://localhost:8080/"
        },
        "id": "7n0ruayERw7S",
        "outputId": "a24b9353-0f73-4da9-8ef6-7536b1cea901"
      },
      "execution_count": null,
      "outputs": [
        {
          "output_type": "execute_result",
          "data": {
            "text/plain": [
              "{'neg': 0.0, 'neu': 0.633, 'pos': 0.367, 'compound': 0.4404}"
            ]
          },
          "metadata": {},
          "execution_count": 4
        }
      ]
    },
    {
      "cell_type": "code",
      "source": [
        "abc=\"This is a worst movie film to ever disgrace the screen\"\n",
        "sia.polarity_scores(abc)"
      ],
      "metadata": {
        "colab": {
          "base_uri": "https://localhost:8080/"
        },
        "id": "RzpFsrXDR0ze",
        "outputId": "0c66fd3d-51f5-450e-cb88-1324b228ac49"
      },
      "execution_count": null,
      "outputs": [
        {
          "output_type": "execute_result",
          "data": {
            "text/plain": [
              "{'neg': 0.477, 'neu': 0.523, 'pos': 0.0, 'compound': -0.8074}"
            ]
          },
          "metadata": {},
          "execution_count": 5
        }
      ]
    },
    {
      "cell_type": "code",
      "source": [
        "df=pd.read_csv(\"/content/AmazonProductReviewsData.tsv\",sep='\\t')"
      ],
      "metadata": {
        "id": "LZkUdzo7SOvB"
      },
      "execution_count": null,
      "outputs": []
    },
    {
      "cell_type": "code",
      "source": [
        "df.head()"
      ],
      "metadata": {
        "colab": {
          "base_uri": "https://localhost:8080/",
          "height": 206
        },
        "id": "J11fILx03IlE",
        "outputId": "6ce83b2c-61e5-4772-ab2b-6a2b11f697a7"
      },
      "execution_count": null,
      "outputs": [
        {
          "output_type": "execute_result",
          "data": {
            "text/plain": [
              "  label                                             review\n",
              "0   pos  Stuning even for the non-gamer: This sound tra...\n",
              "1   pos  The best soundtrack ever to anything.: I'm rea...\n",
              "2   pos  Amazing!: This soundtrack is my favorite music...\n",
              "3   pos  Excellent Soundtrack: I truly like this soundt...\n",
              "4   pos  Remember, Pull Your Jaw Off The Floor After He..."
            ],
            "text/html": [
              "\n",
              "  <div id=\"df-45bfd664-b34b-478b-ad0d-95ecf6b0b2e7\" class=\"colab-df-container\">\n",
              "    <div>\n",
              "<style scoped>\n",
              "    .dataframe tbody tr th:only-of-type {\n",
              "        vertical-align: middle;\n",
              "    }\n",
              "\n",
              "    .dataframe tbody tr th {\n",
              "        vertical-align: top;\n",
              "    }\n",
              "\n",
              "    .dataframe thead th {\n",
              "        text-align: right;\n",
              "    }\n",
              "</style>\n",
              "<table border=\"1\" class=\"dataframe\">\n",
              "  <thead>\n",
              "    <tr style=\"text-align: right;\">\n",
              "      <th></th>\n",
              "      <th>label</th>\n",
              "      <th>review</th>\n",
              "    </tr>\n",
              "  </thead>\n",
              "  <tbody>\n",
              "    <tr>\n",
              "      <th>0</th>\n",
              "      <td>pos</td>\n",
              "      <td>Stuning even for the non-gamer: This sound tra...</td>\n",
              "    </tr>\n",
              "    <tr>\n",
              "      <th>1</th>\n",
              "      <td>pos</td>\n",
              "      <td>The best soundtrack ever to anything.: I'm rea...</td>\n",
              "    </tr>\n",
              "    <tr>\n",
              "      <th>2</th>\n",
              "      <td>pos</td>\n",
              "      <td>Amazing!: This soundtrack is my favorite music...</td>\n",
              "    </tr>\n",
              "    <tr>\n",
              "      <th>3</th>\n",
              "      <td>pos</td>\n",
              "      <td>Excellent Soundtrack: I truly like this soundt...</td>\n",
              "    </tr>\n",
              "    <tr>\n",
              "      <th>4</th>\n",
              "      <td>pos</td>\n",
              "      <td>Remember, Pull Your Jaw Off The Floor After He...</td>\n",
              "    </tr>\n",
              "  </tbody>\n",
              "</table>\n",
              "</div>\n",
              "    <div class=\"colab-df-buttons\">\n",
              "\n",
              "  <div class=\"colab-df-container\">\n",
              "    <button class=\"colab-df-convert\" onclick=\"convertToInteractive('df-45bfd664-b34b-478b-ad0d-95ecf6b0b2e7')\"\n",
              "            title=\"Convert this dataframe to an interactive table.\"\n",
              "            style=\"display:none;\">\n",
              "\n",
              "  <svg xmlns=\"http://www.w3.org/2000/svg\" height=\"24px\" viewBox=\"0 -960 960 960\">\n",
              "    <path d=\"M120-120v-720h720v720H120Zm60-500h600v-160H180v160Zm220 220h160v-160H400v160Zm0 220h160v-160H400v160ZM180-400h160v-160H180v160Zm440 0h160v-160H620v160ZM180-180h160v-160H180v160Zm440 0h160v-160H620v160Z\"/>\n",
              "  </svg>\n",
              "    </button>\n",
              "\n",
              "  <style>\n",
              "    .colab-df-container {\n",
              "      display:flex;\n",
              "      gap: 12px;\n",
              "    }\n",
              "\n",
              "    .colab-df-convert {\n",
              "      background-color: #E8F0FE;\n",
              "      border: none;\n",
              "      border-radius: 50%;\n",
              "      cursor: pointer;\n",
              "      display: none;\n",
              "      fill: #1967D2;\n",
              "      height: 32px;\n",
              "      padding: 0 0 0 0;\n",
              "      width: 32px;\n",
              "    }\n",
              "\n",
              "    .colab-df-convert:hover {\n",
              "      background-color: #E2EBFA;\n",
              "      box-shadow: 0px 1px 2px rgba(60, 64, 67, 0.3), 0px 1px 3px 1px rgba(60, 64, 67, 0.15);\n",
              "      fill: #174EA6;\n",
              "    }\n",
              "\n",
              "    .colab-df-buttons div {\n",
              "      margin-bottom: 4px;\n",
              "    }\n",
              "\n",
              "    [theme=dark] .colab-df-convert {\n",
              "      background-color: #3B4455;\n",
              "      fill: #D2E3FC;\n",
              "    }\n",
              "\n",
              "    [theme=dark] .colab-df-convert:hover {\n",
              "      background-color: #434B5C;\n",
              "      box-shadow: 0px 1px 3px 1px rgba(0, 0, 0, 0.15);\n",
              "      filter: drop-shadow(0px 1px 2px rgba(0, 0, 0, 0.3));\n",
              "      fill: #FFFFFF;\n",
              "    }\n",
              "  </style>\n",
              "\n",
              "    <script>\n",
              "      const buttonEl =\n",
              "        document.querySelector('#df-45bfd664-b34b-478b-ad0d-95ecf6b0b2e7 button.colab-df-convert');\n",
              "      buttonEl.style.display =\n",
              "        google.colab.kernel.accessAllowed ? 'block' : 'none';\n",
              "\n",
              "      async function convertToInteractive(key) {\n",
              "        const element = document.querySelector('#df-45bfd664-b34b-478b-ad0d-95ecf6b0b2e7');\n",
              "        const dataTable =\n",
              "          await google.colab.kernel.invokeFunction('convertToInteractive',\n",
              "                                                    [key], {});\n",
              "        if (!dataTable) return;\n",
              "\n",
              "        const docLinkHtml = 'Like what you see? Visit the ' +\n",
              "          '<a target=\"_blank\" href=https://colab.research.google.com/notebooks/data_table.ipynb>data table notebook</a>'\n",
              "          + ' to learn more about interactive tables.';\n",
              "        element.innerHTML = '';\n",
              "        dataTable['output_type'] = 'display_data';\n",
              "        await google.colab.output.renderOutput(dataTable, element);\n",
              "        const docLink = document.createElement('div');\n",
              "        docLink.innerHTML = docLinkHtml;\n",
              "        element.appendChild(docLink);\n",
              "      }\n",
              "    </script>\n",
              "  </div>\n",
              "\n",
              "\n",
              "<div id=\"df-9a5a2fa0-42f1-4703-a768-3a6fac5057a2\">\n",
              "  <button class=\"colab-df-quickchart\" onclick=\"quickchart('df-9a5a2fa0-42f1-4703-a768-3a6fac5057a2')\"\n",
              "            title=\"Suggest charts.\"\n",
              "            style=\"display:none;\">\n",
              "\n",
              "<svg xmlns=\"http://www.w3.org/2000/svg\" height=\"24px\"viewBox=\"0 0 24 24\"\n",
              "     width=\"24px\">\n",
              "    <g>\n",
              "        <path d=\"M19 3H5c-1.1 0-2 .9-2 2v14c0 1.1.9 2 2 2h14c1.1 0 2-.9 2-2V5c0-1.1-.9-2-2-2zM9 17H7v-7h2v7zm4 0h-2V7h2v10zm4 0h-2v-4h2v4z\"/>\n",
              "    </g>\n",
              "</svg>\n",
              "  </button>\n",
              "\n",
              "<style>\n",
              "  .colab-df-quickchart {\n",
              "      --bg-color: #E8F0FE;\n",
              "      --fill-color: #1967D2;\n",
              "      --hover-bg-color: #E2EBFA;\n",
              "      --hover-fill-color: #174EA6;\n",
              "      --disabled-fill-color: #AAA;\n",
              "      --disabled-bg-color: #DDD;\n",
              "  }\n",
              "\n",
              "  [theme=dark] .colab-df-quickchart {\n",
              "      --bg-color: #3B4455;\n",
              "      --fill-color: #D2E3FC;\n",
              "      --hover-bg-color: #434B5C;\n",
              "      --hover-fill-color: #FFFFFF;\n",
              "      --disabled-bg-color: #3B4455;\n",
              "      --disabled-fill-color: #666;\n",
              "  }\n",
              "\n",
              "  .colab-df-quickchart {\n",
              "    background-color: var(--bg-color);\n",
              "    border: none;\n",
              "    border-radius: 50%;\n",
              "    cursor: pointer;\n",
              "    display: none;\n",
              "    fill: var(--fill-color);\n",
              "    height: 32px;\n",
              "    padding: 0;\n",
              "    width: 32px;\n",
              "  }\n",
              "\n",
              "  .colab-df-quickchart:hover {\n",
              "    background-color: var(--hover-bg-color);\n",
              "    box-shadow: 0 1px 2px rgba(60, 64, 67, 0.3), 0 1px 3px 1px rgba(60, 64, 67, 0.15);\n",
              "    fill: var(--button-hover-fill-color);\n",
              "  }\n",
              "\n",
              "  .colab-df-quickchart-complete:disabled,\n",
              "  .colab-df-quickchart-complete:disabled:hover {\n",
              "    background-color: var(--disabled-bg-color);\n",
              "    fill: var(--disabled-fill-color);\n",
              "    box-shadow: none;\n",
              "  }\n",
              "\n",
              "  .colab-df-spinner {\n",
              "    border: 2px solid var(--fill-color);\n",
              "    border-color: transparent;\n",
              "    border-bottom-color: var(--fill-color);\n",
              "    animation:\n",
              "      spin 1s steps(1) infinite;\n",
              "  }\n",
              "\n",
              "  @keyframes spin {\n",
              "    0% {\n",
              "      border-color: transparent;\n",
              "      border-bottom-color: var(--fill-color);\n",
              "      border-left-color: var(--fill-color);\n",
              "    }\n",
              "    20% {\n",
              "      border-color: transparent;\n",
              "      border-left-color: var(--fill-color);\n",
              "      border-top-color: var(--fill-color);\n",
              "    }\n",
              "    30% {\n",
              "      border-color: transparent;\n",
              "      border-left-color: var(--fill-color);\n",
              "      border-top-color: var(--fill-color);\n",
              "      border-right-color: var(--fill-color);\n",
              "    }\n",
              "    40% {\n",
              "      border-color: transparent;\n",
              "      border-right-color: var(--fill-color);\n",
              "      border-top-color: var(--fill-color);\n",
              "    }\n",
              "    60% {\n",
              "      border-color: transparent;\n",
              "      border-right-color: var(--fill-color);\n",
              "    }\n",
              "    80% {\n",
              "      border-color: transparent;\n",
              "      border-right-color: var(--fill-color);\n",
              "      border-bottom-color: var(--fill-color);\n",
              "    }\n",
              "    90% {\n",
              "      border-color: transparent;\n",
              "      border-bottom-color: var(--fill-color);\n",
              "    }\n",
              "  }\n",
              "</style>\n",
              "\n",
              "  <script>\n",
              "    async function quickchart(key) {\n",
              "      const quickchartButtonEl =\n",
              "        document.querySelector('#' + key + ' button');\n",
              "      quickchartButtonEl.disabled = true;  // To prevent multiple clicks.\n",
              "      quickchartButtonEl.classList.add('colab-df-spinner');\n",
              "      try {\n",
              "        const charts = await google.colab.kernel.invokeFunction(\n",
              "            'suggestCharts', [key], {});\n",
              "      } catch (error) {\n",
              "        console.error('Error during call to suggestCharts:', error);\n",
              "      }\n",
              "      quickchartButtonEl.classList.remove('colab-df-spinner');\n",
              "      quickchartButtonEl.classList.add('colab-df-quickchart-complete');\n",
              "    }\n",
              "    (() => {\n",
              "      let quickchartButtonEl =\n",
              "        document.querySelector('#df-9a5a2fa0-42f1-4703-a768-3a6fac5057a2 button');\n",
              "      quickchartButtonEl.style.display =\n",
              "        google.colab.kernel.accessAllowed ? 'block' : 'none';\n",
              "    })();\n",
              "  </script>\n",
              "</div>\n",
              "    </div>\n",
              "  </div>\n"
            ]
          },
          "metadata": {},
          "execution_count": 7
        }
      ]
    },
    {
      "cell_type": "code",
      "source": [
        "sia.polarity_scores(df.loc[0]['review'])"
      ],
      "metadata": {
        "colab": {
          "base_uri": "https://localhost:8080/"
        },
        "id": "y7-3CDrU3QgU",
        "outputId": "91a1feb7-4ded-4314-c45b-7c09e0a9a4e1"
      },
      "execution_count": null,
      "outputs": [
        {
          "output_type": "execute_result",
          "data": {
            "text/plain": [
              "{'neg': 0.088, 'neu': 0.669, 'pos': 0.243, 'compound': 0.9454}"
            ]
          },
          "metadata": {},
          "execution_count": 8
        }
      ]
    },
    {
      "cell_type": "code",
      "source": [
        "df.loc[0]['review']"
      ],
      "metadata": {
        "colab": {
          "base_uri": "https://localhost:8080/",
          "height": 122
        },
        "id": "e5xhFzluAoZJ",
        "outputId": "6ddf6d2a-69e9-46cb-8d79-4986b4e3de48"
      },
      "execution_count": null,
      "outputs": [
        {
          "output_type": "execute_result",
          "data": {
            "text/plain": [
              "'Stuning even for the non-gamer: This sound track was beautiful! It paints the senery in your mind so well I would recomend it even to people who hate vid. game music! I have played the game Chrono Cross but out of all of the games I have ever played it has the best music! It backs away from crude keyboarding and takes a fresher step with grate guitars and soulful orchestras. It would impress anyone who cares to listen! ^_^'"
            ],
            "application/vnd.google.colaboratory.intrinsic+json": {
              "type": "string"
            }
          },
          "metadata": {},
          "execution_count": 9
        }
      ]
    },
    {
      "cell_type": "code",
      "source": [
        "df.shape"
      ],
      "metadata": {
        "colab": {
          "base_uri": "https://localhost:8080/"
        },
        "id": "hS0FLKKcAzJI",
        "outputId": "fe0e4399-eed0-47bb-9c75-1910009319c6"
      },
      "execution_count": null,
      "outputs": [
        {
          "output_type": "execute_result",
          "data": {
            "text/plain": [
              "(10000, 2)"
            ]
          },
          "metadata": {},
          "execution_count": 10
        }
      ]
    },
    {
      "cell_type": "code",
      "source": [
        "df.isnull().sum()"
      ],
      "metadata": {
        "colab": {
          "base_uri": "https://localhost:8080/"
        },
        "id": "R7833fB6BE_O",
        "outputId": "676d8003-e483-4daa-8210-9302f1a40ca4"
      },
      "execution_count": null,
      "outputs": [
        {
          "output_type": "execute_result",
          "data": {
            "text/plain": [
              "label     0\n",
              "review    0\n",
              "dtype: int64"
            ]
          },
          "metadata": {},
          "execution_count": 11
        }
      ]
    },
    {
      "cell_type": "code",
      "source": [
        "df['scores']=df['review'].apply(lambda review :sia.polarity_scores(review))"
      ],
      "metadata": {
        "id": "Ni6O35WTBMzX"
      },
      "execution_count": null,
      "outputs": []
    },
    {
      "cell_type": "code",
      "source": [
        "df.head(10)"
      ],
      "metadata": {
        "colab": {
          "base_uri": "https://localhost:8080/",
          "height": 537
        },
        "id": "ifJRE5jvBmvB",
        "outputId": "1958c2c5-425c-4bf1-d817-e9699e370e91"
      },
      "execution_count": null,
      "outputs": [
        {
          "output_type": "execute_result",
          "data": {
            "text/plain": [
              "  label                                             review  \\\n",
              "0   pos  Stuning even for the non-gamer: This sound tra...   \n",
              "1   pos  The best soundtrack ever to anything.: I'm rea...   \n",
              "2   pos  Amazing!: This soundtrack is my favorite music...   \n",
              "3   pos  Excellent Soundtrack: I truly like this soundt...   \n",
              "4   pos  Remember, Pull Your Jaw Off The Floor After He...   \n",
              "5   pos  an absolute masterpiece: I am quite sure any o...   \n",
              "6   neg  Buyer beware: This is a self-published book, a...   \n",
              "7   pos  Glorious story: I loved Whisper of the wicked ...   \n",
              "8   pos  A FIVE STAR BOOK: I just finished reading Whis...   \n",
              "9   pos  Whispers of the Wicked Saints: This was a easy...   \n",
              "\n",
              "                                              scores  \n",
              "0  {'neg': 0.088, 'neu': 0.669, 'pos': 0.243, 'co...  \n",
              "1  {'neg': 0.018, 'neu': 0.837, 'pos': 0.145, 'co...  \n",
              "2  {'neg': 0.04, 'neu': 0.692, 'pos': 0.268, 'com...  \n",
              "3  {'neg': 0.09, 'neu': 0.615, 'pos': 0.295, 'com...  \n",
              "4  {'neg': 0.0, 'neu': 0.746, 'pos': 0.254, 'comp...  \n",
              "5  {'neg': 0.014, 'neu': 0.737, 'pos': 0.249, 'co...  \n",
              "6  {'neg': 0.124, 'neu': 0.806, 'pos': 0.069, 'co...  \n",
              "7  {'neg': 0.072, 'neu': 0.583, 'pos': 0.346, 'co...  \n",
              "8  {'neg': 0.113, 'neu': 0.712, 'pos': 0.174, 'co...  \n",
              "9  {'neg': 0.033, 'neu': 0.777, 'pos': 0.19, 'com...  "
            ],
            "text/html": [
              "\n",
              "  <div id=\"df-3a591121-27bb-44e9-a172-f9c2c34775fa\" class=\"colab-df-container\">\n",
              "    <div>\n",
              "<style scoped>\n",
              "    .dataframe tbody tr th:only-of-type {\n",
              "        vertical-align: middle;\n",
              "    }\n",
              "\n",
              "    .dataframe tbody tr th {\n",
              "        vertical-align: top;\n",
              "    }\n",
              "\n",
              "    .dataframe thead th {\n",
              "        text-align: right;\n",
              "    }\n",
              "</style>\n",
              "<table border=\"1\" class=\"dataframe\">\n",
              "  <thead>\n",
              "    <tr style=\"text-align: right;\">\n",
              "      <th></th>\n",
              "      <th>label</th>\n",
              "      <th>review</th>\n",
              "      <th>scores</th>\n",
              "    </tr>\n",
              "  </thead>\n",
              "  <tbody>\n",
              "    <tr>\n",
              "      <th>0</th>\n",
              "      <td>pos</td>\n",
              "      <td>Stuning even for the non-gamer: This sound tra...</td>\n",
              "      <td>{'neg': 0.088, 'neu': 0.669, 'pos': 0.243, 'co...</td>\n",
              "    </tr>\n",
              "    <tr>\n",
              "      <th>1</th>\n",
              "      <td>pos</td>\n",
              "      <td>The best soundtrack ever to anything.: I'm rea...</td>\n",
              "      <td>{'neg': 0.018, 'neu': 0.837, 'pos': 0.145, 'co...</td>\n",
              "    </tr>\n",
              "    <tr>\n",
              "      <th>2</th>\n",
              "      <td>pos</td>\n",
              "      <td>Amazing!: This soundtrack is my favorite music...</td>\n",
              "      <td>{'neg': 0.04, 'neu': 0.692, 'pos': 0.268, 'com...</td>\n",
              "    </tr>\n",
              "    <tr>\n",
              "      <th>3</th>\n",
              "      <td>pos</td>\n",
              "      <td>Excellent Soundtrack: I truly like this soundt...</td>\n",
              "      <td>{'neg': 0.09, 'neu': 0.615, 'pos': 0.295, 'com...</td>\n",
              "    </tr>\n",
              "    <tr>\n",
              "      <th>4</th>\n",
              "      <td>pos</td>\n",
              "      <td>Remember, Pull Your Jaw Off The Floor After He...</td>\n",
              "      <td>{'neg': 0.0, 'neu': 0.746, 'pos': 0.254, 'comp...</td>\n",
              "    </tr>\n",
              "    <tr>\n",
              "      <th>5</th>\n",
              "      <td>pos</td>\n",
              "      <td>an absolute masterpiece: I am quite sure any o...</td>\n",
              "      <td>{'neg': 0.014, 'neu': 0.737, 'pos': 0.249, 'co...</td>\n",
              "    </tr>\n",
              "    <tr>\n",
              "      <th>6</th>\n",
              "      <td>neg</td>\n",
              "      <td>Buyer beware: This is a self-published book, a...</td>\n",
              "      <td>{'neg': 0.124, 'neu': 0.806, 'pos': 0.069, 'co...</td>\n",
              "    </tr>\n",
              "    <tr>\n",
              "      <th>7</th>\n",
              "      <td>pos</td>\n",
              "      <td>Glorious story: I loved Whisper of the wicked ...</td>\n",
              "      <td>{'neg': 0.072, 'neu': 0.583, 'pos': 0.346, 'co...</td>\n",
              "    </tr>\n",
              "    <tr>\n",
              "      <th>8</th>\n",
              "      <td>pos</td>\n",
              "      <td>A FIVE STAR BOOK: I just finished reading Whis...</td>\n",
              "      <td>{'neg': 0.113, 'neu': 0.712, 'pos': 0.174, 'co...</td>\n",
              "    </tr>\n",
              "    <tr>\n",
              "      <th>9</th>\n",
              "      <td>pos</td>\n",
              "      <td>Whispers of the Wicked Saints: This was a easy...</td>\n",
              "      <td>{'neg': 0.033, 'neu': 0.777, 'pos': 0.19, 'com...</td>\n",
              "    </tr>\n",
              "  </tbody>\n",
              "</table>\n",
              "</div>\n",
              "    <div class=\"colab-df-buttons\">\n",
              "\n",
              "  <div class=\"colab-df-container\">\n",
              "    <button class=\"colab-df-convert\" onclick=\"convertToInteractive('df-3a591121-27bb-44e9-a172-f9c2c34775fa')\"\n",
              "            title=\"Convert this dataframe to an interactive table.\"\n",
              "            style=\"display:none;\">\n",
              "\n",
              "  <svg xmlns=\"http://www.w3.org/2000/svg\" height=\"24px\" viewBox=\"0 -960 960 960\">\n",
              "    <path d=\"M120-120v-720h720v720H120Zm60-500h600v-160H180v160Zm220 220h160v-160H400v160Zm0 220h160v-160H400v160ZM180-400h160v-160H180v160Zm440 0h160v-160H620v160ZM180-180h160v-160H180v160Zm440 0h160v-160H620v160Z\"/>\n",
              "  </svg>\n",
              "    </button>\n",
              "\n",
              "  <style>\n",
              "    .colab-df-container {\n",
              "      display:flex;\n",
              "      gap: 12px;\n",
              "    }\n",
              "\n",
              "    .colab-df-convert {\n",
              "      background-color: #E8F0FE;\n",
              "      border: none;\n",
              "      border-radius: 50%;\n",
              "      cursor: pointer;\n",
              "      display: none;\n",
              "      fill: #1967D2;\n",
              "      height: 32px;\n",
              "      padding: 0 0 0 0;\n",
              "      width: 32px;\n",
              "    }\n",
              "\n",
              "    .colab-df-convert:hover {\n",
              "      background-color: #E2EBFA;\n",
              "      box-shadow: 0px 1px 2px rgba(60, 64, 67, 0.3), 0px 1px 3px 1px rgba(60, 64, 67, 0.15);\n",
              "      fill: #174EA6;\n",
              "    }\n",
              "\n",
              "    .colab-df-buttons div {\n",
              "      margin-bottom: 4px;\n",
              "    }\n",
              "\n",
              "    [theme=dark] .colab-df-convert {\n",
              "      background-color: #3B4455;\n",
              "      fill: #D2E3FC;\n",
              "    }\n",
              "\n",
              "    [theme=dark] .colab-df-convert:hover {\n",
              "      background-color: #434B5C;\n",
              "      box-shadow: 0px 1px 3px 1px rgba(0, 0, 0, 0.15);\n",
              "      filter: drop-shadow(0px 1px 2px rgba(0, 0, 0, 0.3));\n",
              "      fill: #FFFFFF;\n",
              "    }\n",
              "  </style>\n",
              "\n",
              "    <script>\n",
              "      const buttonEl =\n",
              "        document.querySelector('#df-3a591121-27bb-44e9-a172-f9c2c34775fa button.colab-df-convert');\n",
              "      buttonEl.style.display =\n",
              "        google.colab.kernel.accessAllowed ? 'block' : 'none';\n",
              "\n",
              "      async function convertToInteractive(key) {\n",
              "        const element = document.querySelector('#df-3a591121-27bb-44e9-a172-f9c2c34775fa');\n",
              "        const dataTable =\n",
              "          await google.colab.kernel.invokeFunction('convertToInteractive',\n",
              "                                                    [key], {});\n",
              "        if (!dataTable) return;\n",
              "\n",
              "        const docLinkHtml = 'Like what you see? Visit the ' +\n",
              "          '<a target=\"_blank\" href=https://colab.research.google.com/notebooks/data_table.ipynb>data table notebook</a>'\n",
              "          + ' to learn more about interactive tables.';\n",
              "        element.innerHTML = '';\n",
              "        dataTable['output_type'] = 'display_data';\n",
              "        await google.colab.output.renderOutput(dataTable, element);\n",
              "        const docLink = document.createElement('div');\n",
              "        docLink.innerHTML = docLinkHtml;\n",
              "        element.appendChild(docLink);\n",
              "      }\n",
              "    </script>\n",
              "  </div>\n",
              "\n",
              "\n",
              "<div id=\"df-36f3a8d0-fb17-4291-90cd-f367756ddb2b\">\n",
              "  <button class=\"colab-df-quickchart\" onclick=\"quickchart('df-36f3a8d0-fb17-4291-90cd-f367756ddb2b')\"\n",
              "            title=\"Suggest charts.\"\n",
              "            style=\"display:none;\">\n",
              "\n",
              "<svg xmlns=\"http://www.w3.org/2000/svg\" height=\"24px\"viewBox=\"0 0 24 24\"\n",
              "     width=\"24px\">\n",
              "    <g>\n",
              "        <path d=\"M19 3H5c-1.1 0-2 .9-2 2v14c0 1.1.9 2 2 2h14c1.1 0 2-.9 2-2V5c0-1.1-.9-2-2-2zM9 17H7v-7h2v7zm4 0h-2V7h2v10zm4 0h-2v-4h2v4z\"/>\n",
              "    </g>\n",
              "</svg>\n",
              "  </button>\n",
              "\n",
              "<style>\n",
              "  .colab-df-quickchart {\n",
              "      --bg-color: #E8F0FE;\n",
              "      --fill-color: #1967D2;\n",
              "      --hover-bg-color: #E2EBFA;\n",
              "      --hover-fill-color: #174EA6;\n",
              "      --disabled-fill-color: #AAA;\n",
              "      --disabled-bg-color: #DDD;\n",
              "  }\n",
              "\n",
              "  [theme=dark] .colab-df-quickchart {\n",
              "      --bg-color: #3B4455;\n",
              "      --fill-color: #D2E3FC;\n",
              "      --hover-bg-color: #434B5C;\n",
              "      --hover-fill-color: #FFFFFF;\n",
              "      --disabled-bg-color: #3B4455;\n",
              "      --disabled-fill-color: #666;\n",
              "  }\n",
              "\n",
              "  .colab-df-quickchart {\n",
              "    background-color: var(--bg-color);\n",
              "    border: none;\n",
              "    border-radius: 50%;\n",
              "    cursor: pointer;\n",
              "    display: none;\n",
              "    fill: var(--fill-color);\n",
              "    height: 32px;\n",
              "    padding: 0;\n",
              "    width: 32px;\n",
              "  }\n",
              "\n",
              "  .colab-df-quickchart:hover {\n",
              "    background-color: var(--hover-bg-color);\n",
              "    box-shadow: 0 1px 2px rgba(60, 64, 67, 0.3), 0 1px 3px 1px rgba(60, 64, 67, 0.15);\n",
              "    fill: var(--button-hover-fill-color);\n",
              "  }\n",
              "\n",
              "  .colab-df-quickchart-complete:disabled,\n",
              "  .colab-df-quickchart-complete:disabled:hover {\n",
              "    background-color: var(--disabled-bg-color);\n",
              "    fill: var(--disabled-fill-color);\n",
              "    box-shadow: none;\n",
              "  }\n",
              "\n",
              "  .colab-df-spinner {\n",
              "    border: 2px solid var(--fill-color);\n",
              "    border-color: transparent;\n",
              "    border-bottom-color: var(--fill-color);\n",
              "    animation:\n",
              "      spin 1s steps(1) infinite;\n",
              "  }\n",
              "\n",
              "  @keyframes spin {\n",
              "    0% {\n",
              "      border-color: transparent;\n",
              "      border-bottom-color: var(--fill-color);\n",
              "      border-left-color: var(--fill-color);\n",
              "    }\n",
              "    20% {\n",
              "      border-color: transparent;\n",
              "      border-left-color: var(--fill-color);\n",
              "      border-top-color: var(--fill-color);\n",
              "    }\n",
              "    30% {\n",
              "      border-color: transparent;\n",
              "      border-left-color: var(--fill-color);\n",
              "      border-top-color: var(--fill-color);\n",
              "      border-right-color: var(--fill-color);\n",
              "    }\n",
              "    40% {\n",
              "      border-color: transparent;\n",
              "      border-right-color: var(--fill-color);\n",
              "      border-top-color: var(--fill-color);\n",
              "    }\n",
              "    60% {\n",
              "      border-color: transparent;\n",
              "      border-right-color: var(--fill-color);\n",
              "    }\n",
              "    80% {\n",
              "      border-color: transparent;\n",
              "      border-right-color: var(--fill-color);\n",
              "      border-bottom-color: var(--fill-color);\n",
              "    }\n",
              "    90% {\n",
              "      border-color: transparent;\n",
              "      border-bottom-color: var(--fill-color);\n",
              "    }\n",
              "  }\n",
              "</style>\n",
              "\n",
              "  <script>\n",
              "    async function quickchart(key) {\n",
              "      const quickchartButtonEl =\n",
              "        document.querySelector('#' + key + ' button');\n",
              "      quickchartButtonEl.disabled = true;  // To prevent multiple clicks.\n",
              "      quickchartButtonEl.classList.add('colab-df-spinner');\n",
              "      try {\n",
              "        const charts = await google.colab.kernel.invokeFunction(\n",
              "            'suggestCharts', [key], {});\n",
              "      } catch (error) {\n",
              "        console.error('Error during call to suggestCharts:', error);\n",
              "      }\n",
              "      quickchartButtonEl.classList.remove('colab-df-spinner');\n",
              "      quickchartButtonEl.classList.add('colab-df-quickchart-complete');\n",
              "    }\n",
              "    (() => {\n",
              "      let quickchartButtonEl =\n",
              "        document.querySelector('#df-36f3a8d0-fb17-4291-90cd-f367756ddb2b button');\n",
              "      quickchartButtonEl.style.display =\n",
              "        google.colab.kernel.accessAllowed ? 'block' : 'none';\n",
              "    })();\n",
              "  </script>\n",
              "</div>\n",
              "    </div>\n",
              "  </div>\n"
            ]
          },
          "metadata": {},
          "execution_count": 13
        }
      ]
    },
    {
      "cell_type": "code",
      "source": [
        "len(df['scores'])"
      ],
      "metadata": {
        "colab": {
          "base_uri": "https://localhost:8080/"
        },
        "id": "CHPxJs0oBtNW",
        "outputId": "462fdf4a-d451-440e-8478-02e0712223f3"
      },
      "execution_count": null,
      "outputs": [
        {
          "output_type": "execute_result",
          "data": {
            "text/plain": [
              "10000"
            ]
          },
          "metadata": {},
          "execution_count": 14
        }
      ]
    },
    {
      "cell_type": "code",
      "source": [
        "df['compound']=df['scores'].apply(lambda score_dict : score_dict['compound'])\n",
        "df.head()"
      ],
      "metadata": {
        "colab": {
          "base_uri": "https://localhost:8080/",
          "height": 293
        },
        "id": "CZeuuhXtBxWl",
        "outputId": "ec23d72a-bffe-4db9-dd46-7841679c4e94"
      },
      "execution_count": null,
      "outputs": [
        {
          "output_type": "execute_result",
          "data": {
            "text/plain": [
              "  label                                             review  \\\n",
              "0   pos  Stuning even for the non-gamer: This sound tra...   \n",
              "1   pos  The best soundtrack ever to anything.: I'm rea...   \n",
              "2   pos  Amazing!: This soundtrack is my favorite music...   \n",
              "3   pos  Excellent Soundtrack: I truly like this soundt...   \n",
              "4   pos  Remember, Pull Your Jaw Off The Floor After He...   \n",
              "\n",
              "                                              scores  compound  \n",
              "0  {'neg': 0.088, 'neu': 0.669, 'pos': 0.243, 'co...    0.9454  \n",
              "1  {'neg': 0.018, 'neu': 0.837, 'pos': 0.145, 'co...    0.8957  \n",
              "2  {'neg': 0.04, 'neu': 0.692, 'pos': 0.268, 'com...    0.9858  \n",
              "3  {'neg': 0.09, 'neu': 0.615, 'pos': 0.295, 'com...    0.9814  \n",
              "4  {'neg': 0.0, 'neu': 0.746, 'pos': 0.254, 'comp...    0.9781  "
            ],
            "text/html": [
              "\n",
              "  <div id=\"df-bd4817f3-0815-4023-8778-701358415aa0\" class=\"colab-df-container\">\n",
              "    <div>\n",
              "<style scoped>\n",
              "    .dataframe tbody tr th:only-of-type {\n",
              "        vertical-align: middle;\n",
              "    }\n",
              "\n",
              "    .dataframe tbody tr th {\n",
              "        vertical-align: top;\n",
              "    }\n",
              "\n",
              "    .dataframe thead th {\n",
              "        text-align: right;\n",
              "    }\n",
              "</style>\n",
              "<table border=\"1\" class=\"dataframe\">\n",
              "  <thead>\n",
              "    <tr style=\"text-align: right;\">\n",
              "      <th></th>\n",
              "      <th>label</th>\n",
              "      <th>review</th>\n",
              "      <th>scores</th>\n",
              "      <th>compound</th>\n",
              "    </tr>\n",
              "  </thead>\n",
              "  <tbody>\n",
              "    <tr>\n",
              "      <th>0</th>\n",
              "      <td>pos</td>\n",
              "      <td>Stuning even for the non-gamer: This sound tra...</td>\n",
              "      <td>{'neg': 0.088, 'neu': 0.669, 'pos': 0.243, 'co...</td>\n",
              "      <td>0.9454</td>\n",
              "    </tr>\n",
              "    <tr>\n",
              "      <th>1</th>\n",
              "      <td>pos</td>\n",
              "      <td>The best soundtrack ever to anything.: I'm rea...</td>\n",
              "      <td>{'neg': 0.018, 'neu': 0.837, 'pos': 0.145, 'co...</td>\n",
              "      <td>0.8957</td>\n",
              "    </tr>\n",
              "    <tr>\n",
              "      <th>2</th>\n",
              "      <td>pos</td>\n",
              "      <td>Amazing!: This soundtrack is my favorite music...</td>\n",
              "      <td>{'neg': 0.04, 'neu': 0.692, 'pos': 0.268, 'com...</td>\n",
              "      <td>0.9858</td>\n",
              "    </tr>\n",
              "    <tr>\n",
              "      <th>3</th>\n",
              "      <td>pos</td>\n",
              "      <td>Excellent Soundtrack: I truly like this soundt...</td>\n",
              "      <td>{'neg': 0.09, 'neu': 0.615, 'pos': 0.295, 'com...</td>\n",
              "      <td>0.9814</td>\n",
              "    </tr>\n",
              "    <tr>\n",
              "      <th>4</th>\n",
              "      <td>pos</td>\n",
              "      <td>Remember, Pull Your Jaw Off The Floor After He...</td>\n",
              "      <td>{'neg': 0.0, 'neu': 0.746, 'pos': 0.254, 'comp...</td>\n",
              "      <td>0.9781</td>\n",
              "    </tr>\n",
              "  </tbody>\n",
              "</table>\n",
              "</div>\n",
              "    <div class=\"colab-df-buttons\">\n",
              "\n",
              "  <div class=\"colab-df-container\">\n",
              "    <button class=\"colab-df-convert\" onclick=\"convertToInteractive('df-bd4817f3-0815-4023-8778-701358415aa0')\"\n",
              "            title=\"Convert this dataframe to an interactive table.\"\n",
              "            style=\"display:none;\">\n",
              "\n",
              "  <svg xmlns=\"http://www.w3.org/2000/svg\" height=\"24px\" viewBox=\"0 -960 960 960\">\n",
              "    <path d=\"M120-120v-720h720v720H120Zm60-500h600v-160H180v160Zm220 220h160v-160H400v160Zm0 220h160v-160H400v160ZM180-400h160v-160H180v160Zm440 0h160v-160H620v160ZM180-180h160v-160H180v160Zm440 0h160v-160H620v160Z\"/>\n",
              "  </svg>\n",
              "    </button>\n",
              "\n",
              "  <style>\n",
              "    .colab-df-container {\n",
              "      display:flex;\n",
              "      gap: 12px;\n",
              "    }\n",
              "\n",
              "    .colab-df-convert {\n",
              "      background-color: #E8F0FE;\n",
              "      border: none;\n",
              "      border-radius: 50%;\n",
              "      cursor: pointer;\n",
              "      display: none;\n",
              "      fill: #1967D2;\n",
              "      height: 32px;\n",
              "      padding: 0 0 0 0;\n",
              "      width: 32px;\n",
              "    }\n",
              "\n",
              "    .colab-df-convert:hover {\n",
              "      background-color: #E2EBFA;\n",
              "      box-shadow: 0px 1px 2px rgba(60, 64, 67, 0.3), 0px 1px 3px 1px rgba(60, 64, 67, 0.15);\n",
              "      fill: #174EA6;\n",
              "    }\n",
              "\n",
              "    .colab-df-buttons div {\n",
              "      margin-bottom: 4px;\n",
              "    }\n",
              "\n",
              "    [theme=dark] .colab-df-convert {\n",
              "      background-color: #3B4455;\n",
              "      fill: #D2E3FC;\n",
              "    }\n",
              "\n",
              "    [theme=dark] .colab-df-convert:hover {\n",
              "      background-color: #434B5C;\n",
              "      box-shadow: 0px 1px 3px 1px rgba(0, 0, 0, 0.15);\n",
              "      filter: drop-shadow(0px 1px 2px rgba(0, 0, 0, 0.3));\n",
              "      fill: #FFFFFF;\n",
              "    }\n",
              "  </style>\n",
              "\n",
              "    <script>\n",
              "      const buttonEl =\n",
              "        document.querySelector('#df-bd4817f3-0815-4023-8778-701358415aa0 button.colab-df-convert');\n",
              "      buttonEl.style.display =\n",
              "        google.colab.kernel.accessAllowed ? 'block' : 'none';\n",
              "\n",
              "      async function convertToInteractive(key) {\n",
              "        const element = document.querySelector('#df-bd4817f3-0815-4023-8778-701358415aa0');\n",
              "        const dataTable =\n",
              "          await google.colab.kernel.invokeFunction('convertToInteractive',\n",
              "                                                    [key], {});\n",
              "        if (!dataTable) return;\n",
              "\n",
              "        const docLinkHtml = 'Like what you see? Visit the ' +\n",
              "          '<a target=\"_blank\" href=https://colab.research.google.com/notebooks/data_table.ipynb>data table notebook</a>'\n",
              "          + ' to learn more about interactive tables.';\n",
              "        element.innerHTML = '';\n",
              "        dataTable['output_type'] = 'display_data';\n",
              "        await google.colab.output.renderOutput(dataTable, element);\n",
              "        const docLink = document.createElement('div');\n",
              "        docLink.innerHTML = docLinkHtml;\n",
              "        element.appendChild(docLink);\n",
              "      }\n",
              "    </script>\n",
              "  </div>\n",
              "\n",
              "\n",
              "<div id=\"df-b2f6f4e4-4ca8-42e0-8ed0-2cf50473ddbd\">\n",
              "  <button class=\"colab-df-quickchart\" onclick=\"quickchart('df-b2f6f4e4-4ca8-42e0-8ed0-2cf50473ddbd')\"\n",
              "            title=\"Suggest charts.\"\n",
              "            style=\"display:none;\">\n",
              "\n",
              "<svg xmlns=\"http://www.w3.org/2000/svg\" height=\"24px\"viewBox=\"0 0 24 24\"\n",
              "     width=\"24px\">\n",
              "    <g>\n",
              "        <path d=\"M19 3H5c-1.1 0-2 .9-2 2v14c0 1.1.9 2 2 2h14c1.1 0 2-.9 2-2V5c0-1.1-.9-2-2-2zM9 17H7v-7h2v7zm4 0h-2V7h2v10zm4 0h-2v-4h2v4z\"/>\n",
              "    </g>\n",
              "</svg>\n",
              "  </button>\n",
              "\n",
              "<style>\n",
              "  .colab-df-quickchart {\n",
              "      --bg-color: #E8F0FE;\n",
              "      --fill-color: #1967D2;\n",
              "      --hover-bg-color: #E2EBFA;\n",
              "      --hover-fill-color: #174EA6;\n",
              "      --disabled-fill-color: #AAA;\n",
              "      --disabled-bg-color: #DDD;\n",
              "  }\n",
              "\n",
              "  [theme=dark] .colab-df-quickchart {\n",
              "      --bg-color: #3B4455;\n",
              "      --fill-color: #D2E3FC;\n",
              "      --hover-bg-color: #434B5C;\n",
              "      --hover-fill-color: #FFFFFF;\n",
              "      --disabled-bg-color: #3B4455;\n",
              "      --disabled-fill-color: #666;\n",
              "  }\n",
              "\n",
              "  .colab-df-quickchart {\n",
              "    background-color: var(--bg-color);\n",
              "    border: none;\n",
              "    border-radius: 50%;\n",
              "    cursor: pointer;\n",
              "    display: none;\n",
              "    fill: var(--fill-color);\n",
              "    height: 32px;\n",
              "    padding: 0;\n",
              "    width: 32px;\n",
              "  }\n",
              "\n",
              "  .colab-df-quickchart:hover {\n",
              "    background-color: var(--hover-bg-color);\n",
              "    box-shadow: 0 1px 2px rgba(60, 64, 67, 0.3), 0 1px 3px 1px rgba(60, 64, 67, 0.15);\n",
              "    fill: var(--button-hover-fill-color);\n",
              "  }\n",
              "\n",
              "  .colab-df-quickchart-complete:disabled,\n",
              "  .colab-df-quickchart-complete:disabled:hover {\n",
              "    background-color: var(--disabled-bg-color);\n",
              "    fill: var(--disabled-fill-color);\n",
              "    box-shadow: none;\n",
              "  }\n",
              "\n",
              "  .colab-df-spinner {\n",
              "    border: 2px solid var(--fill-color);\n",
              "    border-color: transparent;\n",
              "    border-bottom-color: var(--fill-color);\n",
              "    animation:\n",
              "      spin 1s steps(1) infinite;\n",
              "  }\n",
              "\n",
              "  @keyframes spin {\n",
              "    0% {\n",
              "      border-color: transparent;\n",
              "      border-bottom-color: var(--fill-color);\n",
              "      border-left-color: var(--fill-color);\n",
              "    }\n",
              "    20% {\n",
              "      border-color: transparent;\n",
              "      border-left-color: var(--fill-color);\n",
              "      border-top-color: var(--fill-color);\n",
              "    }\n",
              "    30% {\n",
              "      border-color: transparent;\n",
              "      border-left-color: var(--fill-color);\n",
              "      border-top-color: var(--fill-color);\n",
              "      border-right-color: var(--fill-color);\n",
              "    }\n",
              "    40% {\n",
              "      border-color: transparent;\n",
              "      border-right-color: var(--fill-color);\n",
              "      border-top-color: var(--fill-color);\n",
              "    }\n",
              "    60% {\n",
              "      border-color: transparent;\n",
              "      border-right-color: var(--fill-color);\n",
              "    }\n",
              "    80% {\n",
              "      border-color: transparent;\n",
              "      border-right-color: var(--fill-color);\n",
              "      border-bottom-color: var(--fill-color);\n",
              "    }\n",
              "    90% {\n",
              "      border-color: transparent;\n",
              "      border-bottom-color: var(--fill-color);\n",
              "    }\n",
              "  }\n",
              "</style>\n",
              "\n",
              "  <script>\n",
              "    async function quickchart(key) {\n",
              "      const quickchartButtonEl =\n",
              "        document.querySelector('#' + key + ' button');\n",
              "      quickchartButtonEl.disabled = true;  // To prevent multiple clicks.\n",
              "      quickchartButtonEl.classList.add('colab-df-spinner');\n",
              "      try {\n",
              "        const charts = await google.colab.kernel.invokeFunction(\n",
              "            'suggestCharts', [key], {});\n",
              "      } catch (error) {\n",
              "        console.error('Error during call to suggestCharts:', error);\n",
              "      }\n",
              "      quickchartButtonEl.classList.remove('colab-df-spinner');\n",
              "      quickchartButtonEl.classList.add('colab-df-quickchart-complete');\n",
              "    }\n",
              "    (() => {\n",
              "      let quickchartButtonEl =\n",
              "        document.querySelector('#df-b2f6f4e4-4ca8-42e0-8ed0-2cf50473ddbd button');\n",
              "      quickchartButtonEl.style.display =\n",
              "        google.colab.kernel.accessAllowed ? 'block' : 'none';\n",
              "    })();\n",
              "  </script>\n",
              "</div>\n",
              "    </div>\n",
              "  </div>\n"
            ]
          },
          "metadata": {},
          "execution_count": 15
        }
      ]
    },
    {
      "cell_type": "code",
      "source": [
        "df['comp_score']=df['compound'].apply(lambda c: 'pos' if c >=0 else 'neg')\n",
        "df.head(10)"
      ],
      "metadata": {
        "colab": {
          "base_uri": "https://localhost:8080/",
          "height": 710
        },
        "id": "v5Uf6C0ECU_-",
        "outputId": "5b1ec096-0f03-4b3e-8512-ee15a5185645"
      },
      "execution_count": null,
      "outputs": [
        {
          "output_type": "execute_result",
          "data": {
            "text/plain": [
              "  label                                             review  \\\n",
              "0   pos  Stuning even for the non-gamer: This sound tra...   \n",
              "1   pos  The best soundtrack ever to anything.: I'm rea...   \n",
              "2   pos  Amazing!: This soundtrack is my favorite music...   \n",
              "3   pos  Excellent Soundtrack: I truly like this soundt...   \n",
              "4   pos  Remember, Pull Your Jaw Off The Floor After He...   \n",
              "5   pos  an absolute masterpiece: I am quite sure any o...   \n",
              "6   neg  Buyer beware: This is a self-published book, a...   \n",
              "7   pos  Glorious story: I loved Whisper of the wicked ...   \n",
              "8   pos  A FIVE STAR BOOK: I just finished reading Whis...   \n",
              "9   pos  Whispers of the Wicked Saints: This was a easy...   \n",
              "\n",
              "                                              scores  compound comp_score  \n",
              "0  {'neg': 0.088, 'neu': 0.669, 'pos': 0.243, 'co...    0.9454        pos  \n",
              "1  {'neg': 0.018, 'neu': 0.837, 'pos': 0.145, 'co...    0.8957        pos  \n",
              "2  {'neg': 0.04, 'neu': 0.692, 'pos': 0.268, 'com...    0.9858        pos  \n",
              "3  {'neg': 0.09, 'neu': 0.615, 'pos': 0.295, 'com...    0.9814        pos  \n",
              "4  {'neg': 0.0, 'neu': 0.746, 'pos': 0.254, 'comp...    0.9781        pos  \n",
              "5  {'neg': 0.014, 'neu': 0.737, 'pos': 0.249, 'co...    0.9900        pos  \n",
              "6  {'neg': 0.124, 'neu': 0.806, 'pos': 0.069, 'co...   -0.8744        neg  \n",
              "7  {'neg': 0.072, 'neu': 0.583, 'pos': 0.346, 'co...    0.9900        pos  \n",
              "8  {'neg': 0.113, 'neu': 0.712, 'pos': 0.174, 'co...    0.8353        pos  \n",
              "9  {'neg': 0.033, 'neu': 0.777, 'pos': 0.19, 'com...    0.8196        pos  "
            ],
            "text/html": [
              "\n",
              "  <div id=\"df-305eb842-ef2e-487d-aca0-99025402052b\" class=\"colab-df-container\">\n",
              "    <div>\n",
              "<style scoped>\n",
              "    .dataframe tbody tr th:only-of-type {\n",
              "        vertical-align: middle;\n",
              "    }\n",
              "\n",
              "    .dataframe tbody tr th {\n",
              "        vertical-align: top;\n",
              "    }\n",
              "\n",
              "    .dataframe thead th {\n",
              "        text-align: right;\n",
              "    }\n",
              "</style>\n",
              "<table border=\"1\" class=\"dataframe\">\n",
              "  <thead>\n",
              "    <tr style=\"text-align: right;\">\n",
              "      <th></th>\n",
              "      <th>label</th>\n",
              "      <th>review</th>\n",
              "      <th>scores</th>\n",
              "      <th>compound</th>\n",
              "      <th>comp_score</th>\n",
              "    </tr>\n",
              "  </thead>\n",
              "  <tbody>\n",
              "    <tr>\n",
              "      <th>0</th>\n",
              "      <td>pos</td>\n",
              "      <td>Stuning even for the non-gamer: This sound tra...</td>\n",
              "      <td>{'neg': 0.088, 'neu': 0.669, 'pos': 0.243, 'co...</td>\n",
              "      <td>0.9454</td>\n",
              "      <td>pos</td>\n",
              "    </tr>\n",
              "    <tr>\n",
              "      <th>1</th>\n",
              "      <td>pos</td>\n",
              "      <td>The best soundtrack ever to anything.: I'm rea...</td>\n",
              "      <td>{'neg': 0.018, 'neu': 0.837, 'pos': 0.145, 'co...</td>\n",
              "      <td>0.8957</td>\n",
              "      <td>pos</td>\n",
              "    </tr>\n",
              "    <tr>\n",
              "      <th>2</th>\n",
              "      <td>pos</td>\n",
              "      <td>Amazing!: This soundtrack is my favorite music...</td>\n",
              "      <td>{'neg': 0.04, 'neu': 0.692, 'pos': 0.268, 'com...</td>\n",
              "      <td>0.9858</td>\n",
              "      <td>pos</td>\n",
              "    </tr>\n",
              "    <tr>\n",
              "      <th>3</th>\n",
              "      <td>pos</td>\n",
              "      <td>Excellent Soundtrack: I truly like this soundt...</td>\n",
              "      <td>{'neg': 0.09, 'neu': 0.615, 'pos': 0.295, 'com...</td>\n",
              "      <td>0.9814</td>\n",
              "      <td>pos</td>\n",
              "    </tr>\n",
              "    <tr>\n",
              "      <th>4</th>\n",
              "      <td>pos</td>\n",
              "      <td>Remember, Pull Your Jaw Off The Floor After He...</td>\n",
              "      <td>{'neg': 0.0, 'neu': 0.746, 'pos': 0.254, 'comp...</td>\n",
              "      <td>0.9781</td>\n",
              "      <td>pos</td>\n",
              "    </tr>\n",
              "    <tr>\n",
              "      <th>5</th>\n",
              "      <td>pos</td>\n",
              "      <td>an absolute masterpiece: I am quite sure any o...</td>\n",
              "      <td>{'neg': 0.014, 'neu': 0.737, 'pos': 0.249, 'co...</td>\n",
              "      <td>0.9900</td>\n",
              "      <td>pos</td>\n",
              "    </tr>\n",
              "    <tr>\n",
              "      <th>6</th>\n",
              "      <td>neg</td>\n",
              "      <td>Buyer beware: This is a self-published book, a...</td>\n",
              "      <td>{'neg': 0.124, 'neu': 0.806, 'pos': 0.069, 'co...</td>\n",
              "      <td>-0.8744</td>\n",
              "      <td>neg</td>\n",
              "    </tr>\n",
              "    <tr>\n",
              "      <th>7</th>\n",
              "      <td>pos</td>\n",
              "      <td>Glorious story: I loved Whisper of the wicked ...</td>\n",
              "      <td>{'neg': 0.072, 'neu': 0.583, 'pos': 0.346, 'co...</td>\n",
              "      <td>0.9900</td>\n",
              "      <td>pos</td>\n",
              "    </tr>\n",
              "    <tr>\n",
              "      <th>8</th>\n",
              "      <td>pos</td>\n",
              "      <td>A FIVE STAR BOOK: I just finished reading Whis...</td>\n",
              "      <td>{'neg': 0.113, 'neu': 0.712, 'pos': 0.174, 'co...</td>\n",
              "      <td>0.8353</td>\n",
              "      <td>pos</td>\n",
              "    </tr>\n",
              "    <tr>\n",
              "      <th>9</th>\n",
              "      <td>pos</td>\n",
              "      <td>Whispers of the Wicked Saints: This was a easy...</td>\n",
              "      <td>{'neg': 0.033, 'neu': 0.777, 'pos': 0.19, 'com...</td>\n",
              "      <td>0.8196</td>\n",
              "      <td>pos</td>\n",
              "    </tr>\n",
              "  </tbody>\n",
              "</table>\n",
              "</div>\n",
              "    <div class=\"colab-df-buttons\">\n",
              "\n",
              "  <div class=\"colab-df-container\">\n",
              "    <button class=\"colab-df-convert\" onclick=\"convertToInteractive('df-305eb842-ef2e-487d-aca0-99025402052b')\"\n",
              "            title=\"Convert this dataframe to an interactive table.\"\n",
              "            style=\"display:none;\">\n",
              "\n",
              "  <svg xmlns=\"http://www.w3.org/2000/svg\" height=\"24px\" viewBox=\"0 -960 960 960\">\n",
              "    <path d=\"M120-120v-720h720v720H120Zm60-500h600v-160H180v160Zm220 220h160v-160H400v160Zm0 220h160v-160H400v160ZM180-400h160v-160H180v160Zm440 0h160v-160H620v160ZM180-180h160v-160H180v160Zm440 0h160v-160H620v160Z\"/>\n",
              "  </svg>\n",
              "    </button>\n",
              "\n",
              "  <style>\n",
              "    .colab-df-container {\n",
              "      display:flex;\n",
              "      gap: 12px;\n",
              "    }\n",
              "\n",
              "    .colab-df-convert {\n",
              "      background-color: #E8F0FE;\n",
              "      border: none;\n",
              "      border-radius: 50%;\n",
              "      cursor: pointer;\n",
              "      display: none;\n",
              "      fill: #1967D2;\n",
              "      height: 32px;\n",
              "      padding: 0 0 0 0;\n",
              "      width: 32px;\n",
              "    }\n",
              "\n",
              "    .colab-df-convert:hover {\n",
              "      background-color: #E2EBFA;\n",
              "      box-shadow: 0px 1px 2px rgba(60, 64, 67, 0.3), 0px 1px 3px 1px rgba(60, 64, 67, 0.15);\n",
              "      fill: #174EA6;\n",
              "    }\n",
              "\n",
              "    .colab-df-buttons div {\n",
              "      margin-bottom: 4px;\n",
              "    }\n",
              "\n",
              "    [theme=dark] .colab-df-convert {\n",
              "      background-color: #3B4455;\n",
              "      fill: #D2E3FC;\n",
              "    }\n",
              "\n",
              "    [theme=dark] .colab-df-convert:hover {\n",
              "      background-color: #434B5C;\n",
              "      box-shadow: 0px 1px 3px 1px rgba(0, 0, 0, 0.15);\n",
              "      filter: drop-shadow(0px 1px 2px rgba(0, 0, 0, 0.3));\n",
              "      fill: #FFFFFF;\n",
              "    }\n",
              "  </style>\n",
              "\n",
              "    <script>\n",
              "      const buttonEl =\n",
              "        document.querySelector('#df-305eb842-ef2e-487d-aca0-99025402052b button.colab-df-convert');\n",
              "      buttonEl.style.display =\n",
              "        google.colab.kernel.accessAllowed ? 'block' : 'none';\n",
              "\n",
              "      async function convertToInteractive(key) {\n",
              "        const element = document.querySelector('#df-305eb842-ef2e-487d-aca0-99025402052b');\n",
              "        const dataTable =\n",
              "          await google.colab.kernel.invokeFunction('convertToInteractive',\n",
              "                                                    [key], {});\n",
              "        if (!dataTable) return;\n",
              "\n",
              "        const docLinkHtml = 'Like what you see? Visit the ' +\n",
              "          '<a target=\"_blank\" href=https://colab.research.google.com/notebooks/data_table.ipynb>data table notebook</a>'\n",
              "          + ' to learn more about interactive tables.';\n",
              "        element.innerHTML = '';\n",
              "        dataTable['output_type'] = 'display_data';\n",
              "        await google.colab.output.renderOutput(dataTable, element);\n",
              "        const docLink = document.createElement('div');\n",
              "        docLink.innerHTML = docLinkHtml;\n",
              "        element.appendChild(docLink);\n",
              "      }\n",
              "    </script>\n",
              "  </div>\n",
              "\n",
              "\n",
              "<div id=\"df-07503eb3-3f75-4989-98aa-38f464cb4f6d\">\n",
              "  <button class=\"colab-df-quickchart\" onclick=\"quickchart('df-07503eb3-3f75-4989-98aa-38f464cb4f6d')\"\n",
              "            title=\"Suggest charts.\"\n",
              "            style=\"display:none;\">\n",
              "\n",
              "<svg xmlns=\"http://www.w3.org/2000/svg\" height=\"24px\"viewBox=\"0 0 24 24\"\n",
              "     width=\"24px\">\n",
              "    <g>\n",
              "        <path d=\"M19 3H5c-1.1 0-2 .9-2 2v14c0 1.1.9 2 2 2h14c1.1 0 2-.9 2-2V5c0-1.1-.9-2-2-2zM9 17H7v-7h2v7zm4 0h-2V7h2v10zm4 0h-2v-4h2v4z\"/>\n",
              "    </g>\n",
              "</svg>\n",
              "  </button>\n",
              "\n",
              "<style>\n",
              "  .colab-df-quickchart {\n",
              "      --bg-color: #E8F0FE;\n",
              "      --fill-color: #1967D2;\n",
              "      --hover-bg-color: #E2EBFA;\n",
              "      --hover-fill-color: #174EA6;\n",
              "      --disabled-fill-color: #AAA;\n",
              "      --disabled-bg-color: #DDD;\n",
              "  }\n",
              "\n",
              "  [theme=dark] .colab-df-quickchart {\n",
              "      --bg-color: #3B4455;\n",
              "      --fill-color: #D2E3FC;\n",
              "      --hover-bg-color: #434B5C;\n",
              "      --hover-fill-color: #FFFFFF;\n",
              "      --disabled-bg-color: #3B4455;\n",
              "      --disabled-fill-color: #666;\n",
              "  }\n",
              "\n",
              "  .colab-df-quickchart {\n",
              "    background-color: var(--bg-color);\n",
              "    border: none;\n",
              "    border-radius: 50%;\n",
              "    cursor: pointer;\n",
              "    display: none;\n",
              "    fill: var(--fill-color);\n",
              "    height: 32px;\n",
              "    padding: 0;\n",
              "    width: 32px;\n",
              "  }\n",
              "\n",
              "  .colab-df-quickchart:hover {\n",
              "    background-color: var(--hover-bg-color);\n",
              "    box-shadow: 0 1px 2px rgba(60, 64, 67, 0.3), 0 1px 3px 1px rgba(60, 64, 67, 0.15);\n",
              "    fill: var(--button-hover-fill-color);\n",
              "  }\n",
              "\n",
              "  .colab-df-quickchart-complete:disabled,\n",
              "  .colab-df-quickchart-complete:disabled:hover {\n",
              "    background-color: var(--disabled-bg-color);\n",
              "    fill: var(--disabled-fill-color);\n",
              "    box-shadow: none;\n",
              "  }\n",
              "\n",
              "  .colab-df-spinner {\n",
              "    border: 2px solid var(--fill-color);\n",
              "    border-color: transparent;\n",
              "    border-bottom-color: var(--fill-color);\n",
              "    animation:\n",
              "      spin 1s steps(1) infinite;\n",
              "  }\n",
              "\n",
              "  @keyframes spin {\n",
              "    0% {\n",
              "      border-color: transparent;\n",
              "      border-bottom-color: var(--fill-color);\n",
              "      border-left-color: var(--fill-color);\n",
              "    }\n",
              "    20% {\n",
              "      border-color: transparent;\n",
              "      border-left-color: var(--fill-color);\n",
              "      border-top-color: var(--fill-color);\n",
              "    }\n",
              "    30% {\n",
              "      border-color: transparent;\n",
              "      border-left-color: var(--fill-color);\n",
              "      border-top-color: var(--fill-color);\n",
              "      border-right-color: var(--fill-color);\n",
              "    }\n",
              "    40% {\n",
              "      border-color: transparent;\n",
              "      border-right-color: var(--fill-color);\n",
              "      border-top-color: var(--fill-color);\n",
              "    }\n",
              "    60% {\n",
              "      border-color: transparent;\n",
              "      border-right-color: var(--fill-color);\n",
              "    }\n",
              "    80% {\n",
              "      border-color: transparent;\n",
              "      border-right-color: var(--fill-color);\n",
              "      border-bottom-color: var(--fill-color);\n",
              "    }\n",
              "    90% {\n",
              "      border-color: transparent;\n",
              "      border-bottom-color: var(--fill-color);\n",
              "    }\n",
              "  }\n",
              "</style>\n",
              "\n",
              "  <script>\n",
              "    async function quickchart(key) {\n",
              "      const quickchartButtonEl =\n",
              "        document.querySelector('#' + key + ' button');\n",
              "      quickchartButtonEl.disabled = true;  // To prevent multiple clicks.\n",
              "      quickchartButtonEl.classList.add('colab-df-spinner');\n",
              "      try {\n",
              "        const charts = await google.colab.kernel.invokeFunction(\n",
              "            'suggestCharts', [key], {});\n",
              "      } catch (error) {\n",
              "        console.error('Error during call to suggestCharts:', error);\n",
              "      }\n",
              "      quickchartButtonEl.classList.remove('colab-df-spinner');\n",
              "      quickchartButtonEl.classList.add('colab-df-quickchart-complete');\n",
              "    }\n",
              "    (() => {\n",
              "      let quickchartButtonEl =\n",
              "        document.querySelector('#df-07503eb3-3f75-4989-98aa-38f464cb4f6d button');\n",
              "      quickchartButtonEl.style.display =\n",
              "        google.colab.kernel.accessAllowed ? 'block' : 'none';\n",
              "    })();\n",
              "  </script>\n",
              "</div>\n",
              "    </div>\n",
              "  </div>\n"
            ]
          },
          "metadata": {},
          "execution_count": 16
        }
      ]
    },
    {
      "cell_type": "markdown",
      "source": [
        "# Evaluation Matrix"
      ],
      "metadata": {
        "id": "g4gZ_bkLDf1_"
      }
    },
    {
      "cell_type": "code",
      "source": [
        "from sklearn.metrics import confusion_matrix,classification_report,accuracy_score"
      ],
      "metadata": {
        "id": "Qil38H2wC_AK"
      },
      "execution_count": null,
      "outputs": []
    },
    {
      "cell_type": "code",
      "source": [
        "print(confusion_matrix(df['label'],df['comp_score']))\n",
        "print(\"******************10\")\n",
        "print(classification_report(df['label'],df['comp_score']))\n",
        "print(\"******************10\")\n",
        "print(accuracy_score(df['label'],df['comp_score']))\n"
      ],
      "metadata": {
        "colab": {
          "base_uri": "https://localhost:8080/"
        },
        "id": "p62L7F41DsBd",
        "outputId": "25810134-f46e-4258-8f69-3771a298c051"
      },
      "execution_count": null,
      "outputs": [
        {
          "output_type": "stream",
          "name": "stdout",
          "text": [
            "[[2629 2468]\n",
            " [ 435 4468]]\n",
            "******************10\n",
            "              precision    recall  f1-score   support\n",
            "\n",
            "         neg       0.86      0.52      0.64      5097\n",
            "         pos       0.64      0.91      0.75      4903\n",
            "\n",
            "    accuracy                           0.71     10000\n",
            "   macro avg       0.75      0.71      0.70     10000\n",
            "weighted avg       0.75      0.71      0.70     10000\n",
            "\n",
            "******************10\n",
            "0.7097\n"
          ]
        }
      ]
    },
    {
      "cell_type": "markdown",
      "source": [
        "# Building Machine Learning Approach\n",
        "\n",
        "\n"
      ],
      "metadata": {
        "id": "uVNBXWdkF3Lu"
      }
    },
    {
      "cell_type": "code",
      "source": [
        "df=pd.read_csv(\"/content/AmazonProductReviewsData.tsv\",sep='\\t')"
      ],
      "metadata": {
        "id": "OmuNt7nmEgrE"
      },
      "execution_count": null,
      "outputs": []
    },
    {
      "cell_type": "code",
      "source": [
        "df.head()"
      ],
      "metadata": {
        "colab": {
          "base_uri": "https://localhost:8080/",
          "height": 206
        },
        "id": "81O_6mXvGHAz",
        "outputId": "76700411-fd0c-4ef8-9760-26c64ee84030"
      },
      "execution_count": null,
      "outputs": [
        {
          "output_type": "execute_result",
          "data": {
            "text/plain": [
              "  label                                             review\n",
              "0   pos  Stuning even for the non-gamer: This sound tra...\n",
              "1   pos  The best soundtrack ever to anything.: I'm rea...\n",
              "2   pos  Amazing!: This soundtrack is my favorite music...\n",
              "3   pos  Excellent Soundtrack: I truly like this soundt...\n",
              "4   pos  Remember, Pull Your Jaw Off The Floor After He..."
            ],
            "text/html": [
              "\n",
              "  <div id=\"df-b940b049-d8da-4e88-9409-ed682babff28\" class=\"colab-df-container\">\n",
              "    <div>\n",
              "<style scoped>\n",
              "    .dataframe tbody tr th:only-of-type {\n",
              "        vertical-align: middle;\n",
              "    }\n",
              "\n",
              "    .dataframe tbody tr th {\n",
              "        vertical-align: top;\n",
              "    }\n",
              "\n",
              "    .dataframe thead th {\n",
              "        text-align: right;\n",
              "    }\n",
              "</style>\n",
              "<table border=\"1\" class=\"dataframe\">\n",
              "  <thead>\n",
              "    <tr style=\"text-align: right;\">\n",
              "      <th></th>\n",
              "      <th>label</th>\n",
              "      <th>review</th>\n",
              "    </tr>\n",
              "  </thead>\n",
              "  <tbody>\n",
              "    <tr>\n",
              "      <th>0</th>\n",
              "      <td>pos</td>\n",
              "      <td>Stuning even for the non-gamer: This sound tra...</td>\n",
              "    </tr>\n",
              "    <tr>\n",
              "      <th>1</th>\n",
              "      <td>pos</td>\n",
              "      <td>The best soundtrack ever to anything.: I'm rea...</td>\n",
              "    </tr>\n",
              "    <tr>\n",
              "      <th>2</th>\n",
              "      <td>pos</td>\n",
              "      <td>Amazing!: This soundtrack is my favorite music...</td>\n",
              "    </tr>\n",
              "    <tr>\n",
              "      <th>3</th>\n",
              "      <td>pos</td>\n",
              "      <td>Excellent Soundtrack: I truly like this soundt...</td>\n",
              "    </tr>\n",
              "    <tr>\n",
              "      <th>4</th>\n",
              "      <td>pos</td>\n",
              "      <td>Remember, Pull Your Jaw Off The Floor After He...</td>\n",
              "    </tr>\n",
              "  </tbody>\n",
              "</table>\n",
              "</div>\n",
              "    <div class=\"colab-df-buttons\">\n",
              "\n",
              "  <div class=\"colab-df-container\">\n",
              "    <button class=\"colab-df-convert\" onclick=\"convertToInteractive('df-b940b049-d8da-4e88-9409-ed682babff28')\"\n",
              "            title=\"Convert this dataframe to an interactive table.\"\n",
              "            style=\"display:none;\">\n",
              "\n",
              "  <svg xmlns=\"http://www.w3.org/2000/svg\" height=\"24px\" viewBox=\"0 -960 960 960\">\n",
              "    <path d=\"M120-120v-720h720v720H120Zm60-500h600v-160H180v160Zm220 220h160v-160H400v160Zm0 220h160v-160H400v160ZM180-400h160v-160H180v160Zm440 0h160v-160H620v160ZM180-180h160v-160H180v160Zm440 0h160v-160H620v160Z\"/>\n",
              "  </svg>\n",
              "    </button>\n",
              "\n",
              "  <style>\n",
              "    .colab-df-container {\n",
              "      display:flex;\n",
              "      gap: 12px;\n",
              "    }\n",
              "\n",
              "    .colab-df-convert {\n",
              "      background-color: #E8F0FE;\n",
              "      border: none;\n",
              "      border-radius: 50%;\n",
              "      cursor: pointer;\n",
              "      display: none;\n",
              "      fill: #1967D2;\n",
              "      height: 32px;\n",
              "      padding: 0 0 0 0;\n",
              "      width: 32px;\n",
              "    }\n",
              "\n",
              "    .colab-df-convert:hover {\n",
              "      background-color: #E2EBFA;\n",
              "      box-shadow: 0px 1px 2px rgba(60, 64, 67, 0.3), 0px 1px 3px 1px rgba(60, 64, 67, 0.15);\n",
              "      fill: #174EA6;\n",
              "    }\n",
              "\n",
              "    .colab-df-buttons div {\n",
              "      margin-bottom: 4px;\n",
              "    }\n",
              "\n",
              "    [theme=dark] .colab-df-convert {\n",
              "      background-color: #3B4455;\n",
              "      fill: #D2E3FC;\n",
              "    }\n",
              "\n",
              "    [theme=dark] .colab-df-convert:hover {\n",
              "      background-color: #434B5C;\n",
              "      box-shadow: 0px 1px 3px 1px rgba(0, 0, 0, 0.15);\n",
              "      filter: drop-shadow(0px 1px 2px rgba(0, 0, 0, 0.3));\n",
              "      fill: #FFFFFF;\n",
              "    }\n",
              "  </style>\n",
              "\n",
              "    <script>\n",
              "      const buttonEl =\n",
              "        document.querySelector('#df-b940b049-d8da-4e88-9409-ed682babff28 button.colab-df-convert');\n",
              "      buttonEl.style.display =\n",
              "        google.colab.kernel.accessAllowed ? 'block' : 'none';\n",
              "\n",
              "      async function convertToInteractive(key) {\n",
              "        const element = document.querySelector('#df-b940b049-d8da-4e88-9409-ed682babff28');\n",
              "        const dataTable =\n",
              "          await google.colab.kernel.invokeFunction('convertToInteractive',\n",
              "                                                    [key], {});\n",
              "        if (!dataTable) return;\n",
              "\n",
              "        const docLinkHtml = 'Like what you see? Visit the ' +\n",
              "          '<a target=\"_blank\" href=https://colab.research.google.com/notebooks/data_table.ipynb>data table notebook</a>'\n",
              "          + ' to learn more about interactive tables.';\n",
              "        element.innerHTML = '';\n",
              "        dataTable['output_type'] = 'display_data';\n",
              "        await google.colab.output.renderOutput(dataTable, element);\n",
              "        const docLink = document.createElement('div');\n",
              "        docLink.innerHTML = docLinkHtml;\n",
              "        element.appendChild(docLink);\n",
              "      }\n",
              "    </script>\n",
              "  </div>\n",
              "\n",
              "\n",
              "<div id=\"df-bb2b8128-45f7-4e6a-ba6f-3c4a2190b55d\">\n",
              "  <button class=\"colab-df-quickchart\" onclick=\"quickchart('df-bb2b8128-45f7-4e6a-ba6f-3c4a2190b55d')\"\n",
              "            title=\"Suggest charts.\"\n",
              "            style=\"display:none;\">\n",
              "\n",
              "<svg xmlns=\"http://www.w3.org/2000/svg\" height=\"24px\"viewBox=\"0 0 24 24\"\n",
              "     width=\"24px\">\n",
              "    <g>\n",
              "        <path d=\"M19 3H5c-1.1 0-2 .9-2 2v14c0 1.1.9 2 2 2h14c1.1 0 2-.9 2-2V5c0-1.1-.9-2-2-2zM9 17H7v-7h2v7zm4 0h-2V7h2v10zm4 0h-2v-4h2v4z\"/>\n",
              "    </g>\n",
              "</svg>\n",
              "  </button>\n",
              "\n",
              "<style>\n",
              "  .colab-df-quickchart {\n",
              "      --bg-color: #E8F0FE;\n",
              "      --fill-color: #1967D2;\n",
              "      --hover-bg-color: #E2EBFA;\n",
              "      --hover-fill-color: #174EA6;\n",
              "      --disabled-fill-color: #AAA;\n",
              "      --disabled-bg-color: #DDD;\n",
              "  }\n",
              "\n",
              "  [theme=dark] .colab-df-quickchart {\n",
              "      --bg-color: #3B4455;\n",
              "      --fill-color: #D2E3FC;\n",
              "      --hover-bg-color: #434B5C;\n",
              "      --hover-fill-color: #FFFFFF;\n",
              "      --disabled-bg-color: #3B4455;\n",
              "      --disabled-fill-color: #666;\n",
              "  }\n",
              "\n",
              "  .colab-df-quickchart {\n",
              "    background-color: var(--bg-color);\n",
              "    border: none;\n",
              "    border-radius: 50%;\n",
              "    cursor: pointer;\n",
              "    display: none;\n",
              "    fill: var(--fill-color);\n",
              "    height: 32px;\n",
              "    padding: 0;\n",
              "    width: 32px;\n",
              "  }\n",
              "\n",
              "  .colab-df-quickchart:hover {\n",
              "    background-color: var(--hover-bg-color);\n",
              "    box-shadow: 0 1px 2px rgba(60, 64, 67, 0.3), 0 1px 3px 1px rgba(60, 64, 67, 0.15);\n",
              "    fill: var(--button-hover-fill-color);\n",
              "  }\n",
              "\n",
              "  .colab-df-quickchart-complete:disabled,\n",
              "  .colab-df-quickchart-complete:disabled:hover {\n",
              "    background-color: var(--disabled-bg-color);\n",
              "    fill: var(--disabled-fill-color);\n",
              "    box-shadow: none;\n",
              "  }\n",
              "\n",
              "  .colab-df-spinner {\n",
              "    border: 2px solid var(--fill-color);\n",
              "    border-color: transparent;\n",
              "    border-bottom-color: var(--fill-color);\n",
              "    animation:\n",
              "      spin 1s steps(1) infinite;\n",
              "  }\n",
              "\n",
              "  @keyframes spin {\n",
              "    0% {\n",
              "      border-color: transparent;\n",
              "      border-bottom-color: var(--fill-color);\n",
              "      border-left-color: var(--fill-color);\n",
              "    }\n",
              "    20% {\n",
              "      border-color: transparent;\n",
              "      border-left-color: var(--fill-color);\n",
              "      border-top-color: var(--fill-color);\n",
              "    }\n",
              "    30% {\n",
              "      border-color: transparent;\n",
              "      border-left-color: var(--fill-color);\n",
              "      border-top-color: var(--fill-color);\n",
              "      border-right-color: var(--fill-color);\n",
              "    }\n",
              "    40% {\n",
              "      border-color: transparent;\n",
              "      border-right-color: var(--fill-color);\n",
              "      border-top-color: var(--fill-color);\n",
              "    }\n",
              "    60% {\n",
              "      border-color: transparent;\n",
              "      border-right-color: var(--fill-color);\n",
              "    }\n",
              "    80% {\n",
              "      border-color: transparent;\n",
              "      border-right-color: var(--fill-color);\n",
              "      border-bottom-color: var(--fill-color);\n",
              "    }\n",
              "    90% {\n",
              "      border-color: transparent;\n",
              "      border-bottom-color: var(--fill-color);\n",
              "    }\n",
              "  }\n",
              "</style>\n",
              "\n",
              "  <script>\n",
              "    async function quickchart(key) {\n",
              "      const quickchartButtonEl =\n",
              "        document.querySelector('#' + key + ' button');\n",
              "      quickchartButtonEl.disabled = true;  // To prevent multiple clicks.\n",
              "      quickchartButtonEl.classList.add('colab-df-spinner');\n",
              "      try {\n",
              "        const charts = await google.colab.kernel.invokeFunction(\n",
              "            'suggestCharts', [key], {});\n",
              "      } catch (error) {\n",
              "        console.error('Error during call to suggestCharts:', error);\n",
              "      }\n",
              "      quickchartButtonEl.classList.remove('colab-df-spinner');\n",
              "      quickchartButtonEl.classList.add('colab-df-quickchart-complete');\n",
              "    }\n",
              "    (() => {\n",
              "      let quickchartButtonEl =\n",
              "        document.querySelector('#df-bb2b8128-45f7-4e6a-ba6f-3c4a2190b55d button');\n",
              "      quickchartButtonEl.style.display =\n",
              "        google.colab.kernel.accessAllowed ? 'block' : 'none';\n",
              "    })();\n",
              "  </script>\n",
              "</div>\n",
              "    </div>\n",
              "  </div>\n"
            ]
          },
          "metadata": {},
          "execution_count": 20
        }
      ]
    },
    {
      "cell_type": "code",
      "source": [
        "from tqdm import tqdm"
      ],
      "metadata": {
        "id": "iFwajCMYGJFm"
      },
      "execution_count": null,
      "outputs": []
    },
    {
      "cell_type": "code",
      "source": [
        "\n",
        "import nltk\n",
        "nltk.download('stopwords')"
      ],
      "metadata": {
        "colab": {
          "base_uri": "https://localhost:8080/"
        },
        "id": "7CLHIdXxHSdd",
        "outputId": "280da4e8-a1fc-4613-f192-88a3ef865a7b"
      },
      "execution_count": null,
      "outputs": [
        {
          "output_type": "stream",
          "name": "stderr",
          "text": [
            "[nltk_data] Downloading package stopwords to /root/nltk_data...\n",
            "[nltk_data]   Unzipping corpora/stopwords.zip.\n"
          ]
        },
        {
          "output_type": "execute_result",
          "data": {
            "text/plain": [
              "True"
            ]
          },
          "metadata": {},
          "execution_count": 22
        }
      ]
    },
    {
      "cell_type": "code",
      "source": [
        "preprocessed_reviews=[]\n",
        "\n",
        "for sentence in tqdm(df['review'].values):\n",
        "  sentence = re.sub('[^a-zA-Z]',' ',sentence)\n",
        "  sentence= ' '.join(low.lower() for low in sentence.split() if low.lower() not in stopwords.words('english'))\n",
        "  preprocessed_reviews.append(sentence.strip())"
      ],
      "metadata": {
        "colab": {
          "base_uri": "https://localhost:8080/"
        },
        "id": "zk2Ry3y8GSfv",
        "outputId": "a586e95a-4232-46c3-d435-29ea1327b928"
      },
      "execution_count": null,
      "outputs": [
        {
          "output_type": "stream",
          "name": "stderr",
          "text": [
            "100%|██████████| 10000/10000 [01:33<00:00, 107.38it/s]\n"
          ]
        }
      ]
    },
    {
      "cell_type": "code",
      "source": [
        "df['review'].values"
      ],
      "metadata": {
        "colab": {
          "base_uri": "https://localhost:8080/"
        },
        "id": "gKU8rUnFHPav",
        "outputId": "8d24a4fe-2c2d-42bb-8786-12e68acf6c13"
      },
      "execution_count": null,
      "outputs": [
        {
          "output_type": "execute_result",
          "data": {
            "text/plain": [
              "array(['Stuning even for the non-gamer: This sound track was beautiful! It paints the senery in your mind so well I would recomend it even to people who hate vid. game music! I have played the game Chrono Cross but out of all of the games I have ever played it has the best music! It backs away from crude keyboarding and takes a fresher step with grate guitars and soulful orchestras. It would impress anyone who cares to listen! ^_^',\n",
              "       \"The best soundtrack ever to anything.: I'm reading a lot of reviews saying that this is the best 'game soundtrack' and I figured that I'd write a review to disagree a bit. This in my opinino is Yasunori Mitsuda's ultimate masterpiece. The music is timeless and I'm been listening to it for years now and its beauty simply refuses to fade.The price tag on this is pretty staggering I must say, but if you are going to buy any cd for this much money, this is the only one that I feel would be worth every penny.\",\n",
              "       'Amazing!: This soundtrack is my favorite music of all time, hands down. The intense sadness of \"Prisoners of Fate\" (which means all the more if you\\'ve played the game) and the hope in \"A Distant Promise\" and \"Girl who Stole the Star\" have been an important inspiration to me personally throughout my teen years. The higher energy tracks like \"Chrono Cross ~ Time\\'s Scar~\", \"Time of the Dreamwatch\", and \"Chronomantique\" (indefinably remeniscent of Chrono Trigger) are all absolutely superb as well.This soundtrack is amazing music, probably the best of this composer\\'s work (I haven\\'t heard the Xenogears soundtrack, so I can\\'t say for sure), and even if you\\'ve never played the game, it would be worth twice the price to buy it.I wish I could give it 6 stars.',\n",
              "       ...,\n",
              "       \"Interesting Subject; Poor Presentation: You'd be hard-pressed to tell a boring story about about a plucky country newspaper editor who had principles and stuck to 'em. But this author has done it. He says the book is an adaptation of his doctoral thesis. That fits. The book reads like a well-done, fully footnoted college paper, not like a dramatic novel. It strives to identify key historical facts at the expense of the reader's interest. With a modest amount of effort, it could have been reworked as a compelling autobiographical novel bolstered by its remarkable display of features of midwestern life during the first half of the 20th Century.\",\n",
              "       \"Don't buy: The box looked used and it is obviously not new. I have tried to contact them by email and no response. Don't buy from them!\",\n",
              "       \"Beautiful Pen and Fast Delivery.: The pen was shipped promptly. This is the classic Montblanc pen that everyone raves about. It is Black in color with Golden Trim. It holds it's own and I am thankful to my parents to gift this to me as a Graduation Present. Someday I plan on buying more of these pens from Amazon.The vendors at Amazon are amazing. I have been a long time shopper at Amazon, mostly pens and electronics. However this pen was gifted to me by my mom and she has nothing but good things to say. I on my part love this pen.\"],\n",
              "      dtype=object)"
            ]
          },
          "metadata": {},
          "execution_count": 24
        }
      ]
    },
    {
      "cell_type": "code",
      "source": [
        "# Feature Extraction"
      ],
      "metadata": {
        "id": "3IYEaZxnJJcb"
      },
      "execution_count": null,
      "outputs": []
    },
    {
      "cell_type": "markdown",
      "source": [
        "TF-IDF :Term frequency -inverse document Frequency"
      ],
      "metadata": {
        "id": "BwaUawI0QrAT"
      }
    },
    {
      "cell_type": "code",
      "source": [
        "from sklearn.feature_extraction.text import TfidfVectorizer\n",
        "tfidf = TfidfVectorizer()\n",
        "x =tfidf.fit_transform(preprocessed_reviews).toarray()\n",
        "pd.DataFrame(x).shape\n"
      ],
      "metadata": {
        "colab": {
          "base_uri": "https://localhost:8080/"
        },
        "id": "JaR3rctIJOMt",
        "outputId": "22482948-d11f-4fea-9973-438c68db3754"
      },
      "execution_count": null,
      "outputs": [
        {
          "output_type": "execute_result",
          "data": {
            "text/plain": [
              "(10000, 30543)"
            ]
          },
          "metadata": {},
          "execution_count": 29
        }
      ]
    },
    {
      "cell_type": "code",
      "source": [
        "df['label'] =df['label'].astype('category')\n",
        "df['label'] =df['label'].cat.codes"
      ],
      "metadata": {
        "id": "fBE2J37SRTnO"
      },
      "execution_count": null,
      "outputs": []
    },
    {
      "cell_type": "code",
      "source": [
        "df['label'].value_counts()"
      ],
      "metadata": {
        "colab": {
          "base_uri": "https://localhost:8080/"
        },
        "id": "nEC0GSRzR2Ns",
        "outputId": "a420990c-5caa-4922-d41a-dfc6d041d42a"
      },
      "execution_count": null,
      "outputs": [
        {
          "output_type": "execute_result",
          "data": {
            "text/plain": [
              "0    5097\n",
              "1    4903\n",
              "Name: label, dtype: int64"
            ]
          },
          "metadata": {},
          "execution_count": 31
        }
      ]
    },
    {
      "cell_type": "code",
      "source": [
        "# split the data into training and test\n",
        "from sklearn.model_selection import train_test_split\n",
        "x_train,x_test,y_train,y_test =train_test_split(x,df['label'],test_size=0.25,random_state=0)"
      ],
      "metadata": {
        "id": "A66XQpexR6Ze"
      },
      "execution_count": null,
      "outputs": []
    },
    {
      "cell_type": "code",
      "source": [
        "# Random forest classifier"
      ],
      "metadata": {
        "id": "AqYHM7ShSWOh"
      },
      "execution_count": null,
      "outputs": []
    },
    {
      "cell_type": "code",
      "source": [
        "from sklearn.ensemble import RandomForestClassifier\n",
        "rf = RandomForestClassifier()\n",
        "rf.fit(x_train,y_train)"
      ],
      "metadata": {
        "colab": {
          "base_uri": "https://localhost:8080/",
          "height": 75
        },
        "id": "Io6OTL1xSb3z",
        "outputId": "88b4c67c-e007-431f-c16a-0f1ae567faef"
      },
      "execution_count": null,
      "outputs": [
        {
          "output_type": "execute_result",
          "data": {
            "text/plain": [
              "RandomForestClassifier()"
            ],
            "text/html": [
              "<style>#sk-container-id-1 {color: black;background-color: white;}#sk-container-id-1 pre{padding: 0;}#sk-container-id-1 div.sk-toggleable {background-color: white;}#sk-container-id-1 label.sk-toggleable__label {cursor: pointer;display: block;width: 100%;margin-bottom: 0;padding: 0.3em;box-sizing: border-box;text-align: center;}#sk-container-id-1 label.sk-toggleable__label-arrow:before {content: \"▸\";float: left;margin-right: 0.25em;color: #696969;}#sk-container-id-1 label.sk-toggleable__label-arrow:hover:before {color: black;}#sk-container-id-1 div.sk-estimator:hover label.sk-toggleable__label-arrow:before {color: black;}#sk-container-id-1 div.sk-toggleable__content {max-height: 0;max-width: 0;overflow: hidden;text-align: left;background-color: #f0f8ff;}#sk-container-id-1 div.sk-toggleable__content pre {margin: 0.2em;color: black;border-radius: 0.25em;background-color: #f0f8ff;}#sk-container-id-1 input.sk-toggleable__control:checked~div.sk-toggleable__content {max-height: 200px;max-width: 100%;overflow: auto;}#sk-container-id-1 input.sk-toggleable__control:checked~label.sk-toggleable__label-arrow:before {content: \"▾\";}#sk-container-id-1 div.sk-estimator input.sk-toggleable__control:checked~label.sk-toggleable__label {background-color: #d4ebff;}#sk-container-id-1 div.sk-label input.sk-toggleable__control:checked~label.sk-toggleable__label {background-color: #d4ebff;}#sk-container-id-1 input.sk-hidden--visually {border: 0;clip: rect(1px 1px 1px 1px);clip: rect(1px, 1px, 1px, 1px);height: 1px;margin: -1px;overflow: hidden;padding: 0;position: absolute;width: 1px;}#sk-container-id-1 div.sk-estimator {font-family: monospace;background-color: #f0f8ff;border: 1px dotted black;border-radius: 0.25em;box-sizing: border-box;margin-bottom: 0.5em;}#sk-container-id-1 div.sk-estimator:hover {background-color: #d4ebff;}#sk-container-id-1 div.sk-parallel-item::after {content: \"\";width: 100%;border-bottom: 1px solid gray;flex-grow: 1;}#sk-container-id-1 div.sk-label:hover label.sk-toggleable__label {background-color: #d4ebff;}#sk-container-id-1 div.sk-serial::before {content: \"\";position: absolute;border-left: 1px solid gray;box-sizing: border-box;top: 0;bottom: 0;left: 50%;z-index: 0;}#sk-container-id-1 div.sk-serial {display: flex;flex-direction: column;align-items: center;background-color: white;padding-right: 0.2em;padding-left: 0.2em;position: relative;}#sk-container-id-1 div.sk-item {position: relative;z-index: 1;}#sk-container-id-1 div.sk-parallel {display: flex;align-items: stretch;justify-content: center;background-color: white;position: relative;}#sk-container-id-1 div.sk-item::before, #sk-container-id-1 div.sk-parallel-item::before {content: \"\";position: absolute;border-left: 1px solid gray;box-sizing: border-box;top: 0;bottom: 0;left: 50%;z-index: -1;}#sk-container-id-1 div.sk-parallel-item {display: flex;flex-direction: column;z-index: 1;position: relative;background-color: white;}#sk-container-id-1 div.sk-parallel-item:first-child::after {align-self: flex-end;width: 50%;}#sk-container-id-1 div.sk-parallel-item:last-child::after {align-self: flex-start;width: 50%;}#sk-container-id-1 div.sk-parallel-item:only-child::after {width: 0;}#sk-container-id-1 div.sk-dashed-wrapped {border: 1px dashed gray;margin: 0 0.4em 0.5em 0.4em;box-sizing: border-box;padding-bottom: 0.4em;background-color: white;}#sk-container-id-1 div.sk-label label {font-family: monospace;font-weight: bold;display: inline-block;line-height: 1.2em;}#sk-container-id-1 div.sk-label-container {text-align: center;}#sk-container-id-1 div.sk-container {/* jupyter's `normalize.less` sets `[hidden] { display: none; }` but bootstrap.min.css set `[hidden] { display: none !important; }` so we also need the `!important` here to be able to override the default hidden behavior on the sphinx rendered scikit-learn.org. See: https://github.com/scikit-learn/scikit-learn/issues/21755 */display: inline-block !important;position: relative;}#sk-container-id-1 div.sk-text-repr-fallback {display: none;}</style><div id=\"sk-container-id-1\" class=\"sk-top-container\"><div class=\"sk-text-repr-fallback\"><pre>RandomForestClassifier()</pre><b>In a Jupyter environment, please rerun this cell to show the HTML representation or trust the notebook. <br />On GitHub, the HTML representation is unable to render, please try loading this page with nbviewer.org.</b></div><div class=\"sk-container\" hidden><div class=\"sk-item\"><div class=\"sk-estimator sk-toggleable\"><input class=\"sk-toggleable__control sk-hidden--visually\" id=\"sk-estimator-id-1\" type=\"checkbox\" checked><label for=\"sk-estimator-id-1\" class=\"sk-toggleable__label sk-toggleable__label-arrow\">RandomForestClassifier</label><div class=\"sk-toggleable__content\"><pre>RandomForestClassifier()</pre></div></div></div></div></div>"
            ]
          },
          "metadata": {},
          "execution_count": 35
        }
      ]
    },
    {
      "cell_type": "code",
      "source": [
        "y_pred_train=rf.predict(x_train)\n",
        "y_pred_test =rf.predict(x_test)"
      ],
      "metadata": {
        "id": "Revc0ZLLSn3q"
      },
      "execution_count": null,
      "outputs": []
    },
    {
      "cell_type": "code",
      "source": [
        "print(\"Training_accuracy:\",accuracy_score(y_train,y_pred_train))"
      ],
      "metadata": {
        "colab": {
          "base_uri": "https://localhost:8080/"
        },
        "id": "-Ps2aPHxTfnp",
        "outputId": "e0d5a782-8782-460c-8a89-d4cbf3a49375"
      },
      "execution_count": null,
      "outputs": [
        {
          "output_type": "stream",
          "name": "stdout",
          "text": [
            "Training_accuracy: 1.0\n"
          ]
        }
      ]
    },
    {
      "cell_type": "code",
      "source": [
        "print(\"Testing_accuracy:\",accuracy_score(y_test,y_pred_test))"
      ],
      "metadata": {
        "colab": {
          "base_uri": "https://localhost:8080/"
        },
        "id": "Wl8ohZDxTpJI",
        "outputId": "a8adee33-1b18-486c-bc5b-ec33bf3938c9"
      },
      "execution_count": null,
      "outputs": [
        {
          "output_type": "stream",
          "name": "stdout",
          "text": [
            "Testing_accuracy: 0.8456\n"
          ]
        }
      ]
    },
    {
      "cell_type": "code",
      "source": [
        "# cross validation method\n",
        "from sklearn.model_selection import cross_val_score\n",
        "training_accuracy = cross_val_score(rf,x_train,y_train,cv=5)\n",
        "training_accuracy.mean()"
      ],
      "metadata": {
        "colab": {
          "base_uri": "https://localhost:8080/"
        },
        "id": "pNI-gkBmTxUd",
        "outputId": "eb73a549-a7af-4483-b38e-419321b00531"
      },
      "execution_count": null,
      "outputs": [
        {
          "output_type": "execute_result",
          "data": {
            "text/plain": [
              "0.8290666666666666"
            ]
          },
          "metadata": {},
          "execution_count": 39
        }
      ]
    },
    {
      "cell_type": "code",
      "source": [
        "# cross validation method\n",
        "from sklearn.model_selection import cross_val_score\n",
        "testing_accuracy = cross_val_score(rf,x_test,y_test,cv=5)\n",
        "testing_accuracy.mean()"
      ],
      "metadata": {
        "colab": {
          "base_uri": "https://localhost:8080/"
        },
        "id": "n4PwFdG6UJr9",
        "outputId": "adb2ad98-d2dc-4667-cdee-b924ea108077"
      },
      "execution_count": null,
      "outputs": [
        {
          "output_type": "execute_result",
          "data": {
            "text/plain": [
              "0.8092"
            ]
          },
          "metadata": {},
          "execution_count": 40
        }
      ]
    },
    {
      "cell_type": "markdown",
      "source": [
        "# Project Conclusion: Sentiment Analysis on Amazon Product Reviews\n",
        "\n",
        "In this project, we embarked on a journey to analyze Amazon product reviews and uncover their underlying sentiments. The primary aim was to determine whether these reviews expressed positive or negative opinions about the products. Here's a detailed summary of what we accomplished and the insights we gained:\n",
        "\n",
        "**1. Data Acquisition and Exploration:**\n",
        "We started by obtaining a dataset containing Amazon product reviews. This dataset served as our source of text data.\n",
        "Initial exploration revealed that our dataset had no missing values, and we had a clear understanding of its structure.\n",
        "\n",
        "**2. Text Preprocessing:**\n",
        "Text preprocessing was a crucial step to prepare our data for sentiment analysis.\n",
        "We removed non-alphabetic characters, converted text to lowercase, and eliminated common English stopwords. Tokenization was performed to break down text into individual words.\n",
        "\n",
        "**3. Sentiment Analysis with NLTK's VADER Tool:**\n",
        "We utilized the VADER sentiment analysis tool from NLTK. VADER assigned sentiment scores to each review, including positive, negative, neutral, and compound scores.\n",
        "These sentiment scores allowed us to gauge the overall sentiment expressed in each review.\n",
        "\n",
        "**4. Feature Extraction with TF-IDF:**\n",
        "To leverage machine learning, we converted the preprocessed text data into numerical features using TF-IDF vectorization.\n",
        "TF-IDF assigned weights to words based on their significance within reviews and across the entire dataset.\n",
        "\n",
        "**5. Machine Learning Model - Random Forest Classifier:**\n",
        "We employed a Random Forest Classifier, a versatile machine learning algorithm known for its classification capabilities.\n",
        "This model was trained on the TF-IDF features and the labeled sentiment (positive or negative) of each review.\n",
        "\n",
        "**6. Model Evaluation and Cross-Validation:**\n",
        "To assess the model's performance, we evaluated its accuracy on both the training and testing datasets.\n",
        "We also applied cross-validation to estimate the model's ability to generalize to new, unseen data.\n"
      ],
      "metadata": {
        "id": "ayEyHtapsiOp"
      }
    },
    {
      "cell_type": "markdown",
      "source": [
        "# Project Insights:\n",
        "\n",
        "Our Random Forest Classifier achieved a high level of accuracy on the testing dataset, indicating its effectiveness in classifying sentiment in product reviews.\n",
        "\n",
        "The cross-validation results showed that the model generalizes reasonably well to unseen data, enhancing its reliability.\n",
        "By analyzing the sentiment of Amazon product reviews, businesses can gain valuable insights into customer opinions and make informed decisions to improve their products and services.\n",
        "\n",
        "In conclusion, this project showcases the practical application of sentiment analysis techniques to extract meaningful insights from textual data. The analysis of Amazon product reviews demonstrates how businesses can harness the power of NLP and machine learning to better understand customer sentiments and enhance their offerings.\n"
      ],
      "metadata": {
        "id": "2GG7rPsrtNPN"
      }
    }
  ]
}